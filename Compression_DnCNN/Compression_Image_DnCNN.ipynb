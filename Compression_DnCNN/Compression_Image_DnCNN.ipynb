{
 "cells": [
  {
   "cell_type": "markdown",
   "id": "9445c6a1",
   "metadata": {},
   "source": [
    "## Import Module"
   ]
  },
  {
   "cell_type": "code",
   "execution_count": 1,
   "id": "62d2c2b0",
   "metadata": {},
   "outputs": [],
   "source": [
    "import argparse\n",
    "import re\n",
    "import os, glob, datetime, time\n",
    "import numpy as np\n",
    "import easydict\n",
    "import cv2\n",
    "\n",
    "import torch\n",
    "import torch.nn as nn\n",
    "from torch.nn.modules.loss import _Loss\n",
    "import torch.nn.init as init\n",
    "from torch.utils.data import DataLoader\n",
    "import torch.optim as optim\n",
    "from torch.optim.lr_scheduler import MultiStepLR\n",
    "from torch.utils.data import Dataset\n",
    "\n",
    "from skimage.metrics import peak_signal_noise_ratio as compare_psnr\n",
    "from skimage.metrics import structural_similarity as compare_ssim\n",
    "from skimage.io import imread, imsave\n",
    "from sklearn.model_selection import train_test_split"
   ]
  },
  {
   "cell_type": "markdown",
   "id": "d83c72fd",
   "metadata": {},
   "source": [
    "## Define Model Constants"
   ]
  },
  {
   "cell_type": "code",
   "execution_count": 26,
   "id": "5f636bf7",
   "metadata": {},
   "outputs": [],
   "source": [
    "args = easydict.EasyDict({\n",
    "    \"model\" : \"DnCNN\",\n",
    "    \"batch_size\" : 64,\n",
    "    \"train_data\" : 'Train_set',\n",
    "    \"origin_data\" : 'Original_set',\n",
    "    \"epoch\" : 100,\n",
    "    \"lr\" : 1e-3\n",
    "})\n",
    "\n",
    "batch_size = args.batch_size\n",
    "cuda = torch.cuda.is_available()\n",
    "n_epoch = args.epoch\n",
    "\n",
    "save_dir = os.path.join('models', args.model+'_' + 'compression')\n",
    "\n",
    "if not os.path.exists(save_dir):\n",
    "    os.mkdir(save_dir)"
   ]
  },
  {
   "cell_type": "markdown",
   "id": "c2d9a7b6",
   "metadata": {},
   "source": [
    "## Define Data Loader"
   ]
  },
  {
   "cell_type": "code",
   "execution_count": 4,
   "id": "6625300a",
   "metadata": {},
   "outputs": [],
   "source": [
    "patch_size, stride = 80, 60\n",
    "aug_times = 1\n",
    "\n",
    "\n",
    "class DenoisingDataset(Dataset):\n",
    "    def __init__(self, ys, xs):\n",
    "        super(DenoisingDataset, self).__init__()\n",
    "        self.ys = ys # compression Noisy image\n",
    "        self.xs = xs # original image\n",
    "        \n",
    "\n",
    "    def __getitem__(self, index):\n",
    "        batch_x = self.xs[index] \n",
    "        batch_y = self.ys[index]\n",
    "        \n",
    "        return batch_y, batch_x\n",
    "\n",
    "    def __len__(self):\n",
    "        return self.xs.size(0)\n",
    "\n",
    "    \n",
    "def gen_patches(img):\n",
    "    patches = []\n",
    "    h, w = img.shape\n",
    "    s = 0.8\n",
    "    h_s, w_s = int(h*s), int(w*s)\n",
    "    \n",
    "    img_re = cv2.resize(img, (h_s, w_s), interpolation=cv2.INTER_CUBIC)\n",
    "\n",
    "    for i in range(0, w_s - patch_size + 1, stride):\n",
    "            for j in range(0, w_s - patch_size + 1, stride):\n",
    "                x = img_re[i:i+patch_size, j:j+patch_size]\n",
    "                patches.append(x)\n",
    "    \n",
    "    return patches\n",
    "\n",
    "    \n",
    "def datagenerator_noise(data_dir, img_type):\n",
    "    file_list = glob.glob(data_dir + '/*.' + img_type)\n",
    "    data = []\n",
    "    s = 0.8\n",
    "    \n",
    "    for i in range(len(file_list)):\n",
    "        img = cv2.imread(file_list[i], 0)\n",
    "        h, w = img.shape\n",
    "        h_s, w_s = int(h*s), int(w*s)\n",
    "        \n",
    "        img = cv2.resize(img, (int(h/2), int(w/2)), interpolation = cv2.INTER_AREA) # 이미지 축소\n",
    "        img = cv2.resize(img, (h, w), interpolation=cv2.INTER_CUBIC) # 이미지 확장\n",
    "        \n",
    "        img_re = cv2.resize(img, (w_s, w_s), interpolation=cv2.INTER_CUBIC)\n",
    "        for j in range(0, w_s - patch_size + 1, stride):\n",
    "            for k in range(0, w_s - patch_size + 1, stride):\n",
    "                x = img_re[j:j+patch_size, k:k+patch_size]\n",
    "                data.append(x)\n",
    "\n",
    "    data = np.array(data, dtype = 'uint8')\n",
    "    data = np.expand_dims(data, axis = 3)\n",
    "    \n",
    "    return data\n",
    "\n",
    "\n",
    "def datagenerator_original(data_dir, img_type):\n",
    "    file_list = glob.glob(data_dir + '/*.' + img_type)\n",
    "    data = []\n",
    "    s = 0.8\n",
    "    \n",
    "    for i in range(len(file_list)):\n",
    "        img = cv2.imread(file_list[i], 0)\n",
    "        h, w = img.shape\n",
    "        h_s, w_s = int(h*s), int(w*s)\n",
    "        \n",
    "        img_re = cv2.resize(img, (w_s, w_s), interpolation=cv2.INTER_CUBIC)\n",
    "        for j in range(0, w_s - patch_size + 1, stride):\n",
    "            for k in range(0, w_s - patch_size + 1, stride):\n",
    "                x = img_re[j:j+patch_size, k:k+patch_size]\n",
    "                data.append(x)\n",
    "    \n",
    "    data = np.array(data, dtype = 'uint8')\n",
    "    data = np.expand_dims(data, axis = 3)\n",
    "    \n",
    "    return data"
   ]
  },
  {
   "cell_type": "markdown",
   "id": "01e5e907",
   "metadata": {},
   "source": [
    "## Define DnCNN Model"
   ]
  },
  {
   "cell_type": "code",
   "execution_count": 5,
   "id": "80b700d8",
   "metadata": {},
   "outputs": [],
   "source": [
    "class DnCNN(nn.Module):\n",
    "    \n",
    "    def __init__(self, depth=17, n_channels=64, image_channels=1, use_bnorm=True, kernel_size=3):\n",
    "        \n",
    "        super(DnCNN, self).__init__()\n",
    "        kernel_size = 3\n",
    "        padding = 1\n",
    "        self.depth = depth\n",
    "        \n",
    "        self.conv_relu_layers = nn.Sequential(\n",
    "            nn.Conv2d(in_channels=image_channels, out_channels=n_channels, kernel_size=kernel_size, padding=padding, bias=True),\n",
    "            nn.ReLU(inplace=True)\n",
    "        )\n",
    "\n",
    "        self.conv_bn_relu_layers = nn.Sequential(\n",
    "            nn.Conv2d(in_channels=n_channels, out_channels=n_channels, kernel_size=kernel_size, padding=padding, bias=False),\n",
    "            nn.BatchNorm2d(n_channels, eps=0.0001, momentum = 0.95),\n",
    "            nn.ReLU(inplace=True)\n",
    "        )\n",
    "        \n",
    "        self.conv_layers = nn.Sequential(\n",
    "            nn.Conv2d(in_channels=n_channels, out_channels=image_channels, kernel_size=kernel_size, padding=padding, bias=False)\n",
    "        )\n",
    "\n",
    "        self._initialize_weights()\n",
    "\n",
    "    def forward(self, x):\n",
    "        \n",
    "        y = x\n",
    "        \n",
    "        out = self.conv_relu_layers(x)\n",
    "        \n",
    "        for _ in range(self.depth - 2):\n",
    "            out = self.conv_bn_relu_layers(out)\n",
    "        \n",
    "        out = self.conv_layers(out)\n",
    "        \n",
    "        return y - out\n",
    "\n",
    "    \n",
    "    def _initialize_weights(self):\n",
    "        \n",
    "        for m in self.modules():\n",
    "            if isinstance(m, nn.Conv2d):\n",
    "                init.orthogonal_(m.weight)\n",
    "                print('init weight')\n",
    "                if m.bias is not None:\n",
    "                    init.constant_(m.bias, 0)\n",
    "            elif isinstance(m, nn.BatchNorm2d):\n",
    "                init.constant_(m.weight, 1)\n",
    "                init.constant_(m.bias, 0)"
   ]
  },
  {
   "cell_type": "markdown",
   "id": "e692f53f",
   "metadata": {},
   "source": [
    "## Define Function of Utility"
   ]
  },
  {
   "cell_type": "code",
   "execution_count": 6,
   "id": "6b079867",
   "metadata": {},
   "outputs": [],
   "source": [
    "def findLastCheckpoint(save_dir):\n",
    "    file_list = glob.glob(os.path.join(save_dir, 'model_*.pth'))\n",
    "    if file_list:\n",
    "        epochs_exist = []\n",
    "        for file_ in file_list:\n",
    "            result = re.findall(\".*model_(.*).pth.*\", file_)\n",
    "            epochs_exist.append(int(result[0]))\n",
    "        initial_epoch = max(epochs_exist)\n",
    "    else:\n",
    "        initial_epoch = 0\n",
    "    return initial_epoch\n",
    "\n",
    "\n",
    "def log(*args, **kwargs):\n",
    "     print(datetime.datetime.now().strftime(\"%Y-%m-%d %H:%M:%S:\"), *args, **kwargs)\n",
    "\n",
    "        \n",
    "def save_result(result, path, ext):\n",
    "    path = path\n",
    "    ext = ext\n",
    "    if ext in ('.txt', '.dlm'):\n",
    "        np.savetxt(path, result, fmt='%2.4f')\n",
    "    else:\n",
    "        imsave(path, np.clip(result, 0, 1))"
   ]
  },
  {
   "cell_type": "markdown",
   "id": "4e7533d4",
   "metadata": {},
   "source": [
    "## Import Noise Dataset, Original Dataset & Split Training Set, Validation Set"
   ]
  },
  {
   "cell_type": "code",
   "execution_count": 7,
   "id": "79f8024e",
   "metadata": {},
   "outputs": [],
   "source": [
    "noise_dataset = datagenerator_noise(args.train_data, 'png')\n",
    "noise_dataset = noise_dataset.astype('float32')/255.0\n",
    "noise_dataset = torch.from_numpy(noise_dataset.transpose((0, 3, 1, 2)))\n",
    "    \n",
    "target_dataset = datagenerator_original(args.origin_data, 'jpg')\n",
    "target_dataset = target_dataset.astype('float32')/255.0\n",
    "target_dataset = torch.from_numpy(target_dataset.transpose((0, 3, 1, 2)))\n",
    "\n",
    "\n",
    "train_dataset, valid_dataset, train_target, valid_target = train_test_split(noise_dataset, target_dataset, test_size = 0.3)\n",
    "\n",
    "\n",
    "train_target = train_target.numpy()\n",
    "train_target = torch.from_numpy(train_target.transpose((0, 1, 3, 2)))\n",
    "\n",
    "\n",
    "valid_target = valid_target.numpy()\n",
    "valid_target = torch.from_numpy(valid_target.transpose((0, 1, 3, 2)))\n",
    "    \n",
    "Train_Dataset = DenoisingDataset(train_dataset, train_target)\n",
    "DLoader = DataLoader(dataset = Train_Dataset, num_workers = 4, batch_size = batch_size, shuffle = True)\n",
    "\n",
    "    \n",
    "Validation_Dataset = DenoisingDataset(valid_dataset, vaild_target)\n",
    "VLoader = DataLoader(dataset = Validation_Dataset, num_workers = 4)"
   ]
  },
  {
   "cell_type": "code",
   "execution_count": 8,
   "id": "e403c790",
   "metadata": {},
   "outputs": [
    {
     "data": {
      "text/plain": [
       "(torch.Size([35840, 1, 80, 80]),\n",
       " torch.Size([35840, 1, 80, 80]),\n",
       " torch.Size([25088, 1, 80, 80]),\n",
       " torch.Size([25088, 1, 80, 80]),\n",
       " torch.Size([10752, 1, 80, 80]),\n",
       " torch.Size([10752, 1, 80, 80]))"
      ]
     },
     "execution_count": 8,
     "metadata": {},
     "output_type": "execute_result"
    }
   ],
   "source": [
    "# Dataset Shape Check\n",
    "noise_dataset.shape, target_dataset.shape, train_dataset.shape, train_target.shape, vaild_dataset.shape, vaild_target.shape"
   ]
  },
  {
   "cell_type": "markdown",
   "id": "def1295a",
   "metadata": {},
   "source": [
    "## Train Model"
   ]
  },
  {
   "cell_type": "code",
   "execution_count": null,
   "id": "9e4c9572",
   "metadata": {
    "scrolled": true
   },
   "outputs": [
    {
     "name": "stdout",
     "output_type": "stream",
     "text": [
      "===> Building model\n",
      "init weight\n",
      "init weight\n",
      "init weight\n",
      "resuming by loading epoch 075\n"
     ]
    },
    {
     "name": "stderr",
     "output_type": "stream",
     "text": [
      "/opt/conda/lib/python3.7/site-packages/torch/optim/lr_scheduler.py:134: UserWarning: Detected call of `lr_scheduler.step()` before `optimizer.step()`. In PyTorch 1.1.0 and later, you should call them in the opposite order: `optimizer.step()` before `lr_scheduler.step()`.  Failure to do this will result in PyTorch skipping the first value of the learning rate schedule. See more details at https://pytorch.org/docs/stable/optim.html#how-to-adjust-learning-rate\n",
      "  \"https://pytorch.org/docs/stable/optim.html#how-to-adjust-learning-rate\", UserWarning)\n",
      "/opt/conda/lib/python3.7/site-packages/torch/optim/lr_scheduler.py:154: UserWarning: The epoch parameter in `scheduler.step()` was not necessary and is being deprecated where possible. Please use `scheduler.step()` to step the scheduler. During the deprecation, if epoch is different from None, the closed form is used instead of the new chainable form, where available. Please open an issue if you are unable to replicate your use case: https://github.com/pytorch/pytorch/issues/new/choose.\n",
      "  warnings.warn(EPOCH_DEPRECATION_WARNING, UserWarning)\n"
     ]
    },
    {
     "name": "stdout",
     "output_type": "stream",
     "text": [
      "  76    0 /  392 loss = 0.0011\n",
      "  76   10 /  392 loss = 0.0010\n",
      "  76   20 /  392 loss = 0.0010\n",
      "  76   30 /  392 loss = 0.0010\n",
      "  76   40 /  392 loss = 0.0010\n",
      "  76   50 /  392 loss = 0.0009\n",
      "  76   60 /  392 loss = 0.0010\n",
      "  76   70 /  392 loss = 0.0012\n",
      "  76   80 /  392 loss = 0.0011\n",
      "  76   90 /  392 loss = 0.0009\n",
      "  76  100 /  392 loss = 0.0011\n",
      "  76  110 /  392 loss = 0.0011\n",
      "  76  120 /  392 loss = 0.0009\n",
      "  76  130 /  392 loss = 0.0010\n",
      "  76  140 /  392 loss = 0.0011\n",
      "  76  150 /  392 loss = 0.0011\n",
      "  76  160 /  392 loss = 0.0008\n",
      "  76  170 /  392 loss = 0.0009\n",
      "  76  180 /  392 loss = 0.0009\n",
      "  76  190 /  392 loss = 0.0010\n",
      "  76  200 /  392 loss = 0.0010\n",
      "  76  210 /  392 loss = 0.0009\n",
      "  76  220 /  392 loss = 0.0010\n",
      "  76  230 /  392 loss = 0.0010\n",
      "  76  240 /  392 loss = 0.0011\n",
      "  76  250 /  392 loss = 0.0010\n",
      "  76  260 /  392 loss = 0.0011\n",
      "  76  270 /  392 loss = 0.0009\n",
      "  76  280 /  392 loss = 0.0010\n",
      "  76  290 /  392 loss = 0.0009\n",
      "  76  300 /  392 loss = 0.0012\n",
      "  76  310 /  392 loss = 0.0010\n",
      "  76  320 /  392 loss = 0.0009\n",
      "  76  330 /  392 loss = 0.0011\n",
      "  76  340 /  392 loss = 0.0010\n",
      "  76  350 /  392 loss = 0.0010\n",
      "  76  360 /  392 loss = 0.0009\n",
      "  76  370 /  392 loss = 0.0010\n",
      "  76  380 /  392 loss = 0.0011\n",
      "  76  390 /  392 loss = 0.0010\n",
      "2021-12-16 07:53:21: epoch =   76 , loss = 0.0639 , validation loss = 0.1598 , time = 163.27 s\n",
      "  77    0 /  392 loss = 0.0009\n",
      "  77   10 /  392 loss = 0.0010\n",
      "  77   20 /  392 loss = 0.0011\n",
      "  77   30 /  392 loss = 0.0011\n",
      "  77   40 /  392 loss = 0.0009\n",
      "  77   50 /  392 loss = 0.0010\n",
      "  77   60 /  392 loss = 0.0009\n",
      "  77   70 /  392 loss = 0.0010\n",
      "  77   80 /  392 loss = 0.0010\n",
      "  77   90 /  392 loss = 0.0010\n",
      "  77  100 /  392 loss = 0.0010\n",
      "  77  110 /  392 loss = 0.0011\n",
      "  77  120 /  392 loss = 0.0010\n",
      "  77  130 /  392 loss = 0.0009\n",
      "  77  140 /  392 loss = 0.0009\n",
      "  77  150 /  392 loss = 0.0009\n",
      "  77  160 /  392 loss = 0.0010\n",
      "  77  170 /  392 loss = 0.0009\n",
      "  77  180 /  392 loss = 0.0011\n",
      "  77  190 /  392 loss = 0.0009\n",
      "  77  200 /  392 loss = 0.0010\n",
      "  77  210 /  392 loss = 0.0010\n",
      "  77  220 /  392 loss = 0.0011\n",
      "  77  230 /  392 loss = 0.0009\n",
      "  77  240 /  392 loss = 0.0010\n",
      "  77  250 /  392 loss = 0.0011\n",
      "  77  260 /  392 loss = 0.0010\n",
      "  77  270 /  392 loss = 0.0010\n",
      "  77  280 /  392 loss = 0.0010\n",
      "  77  290 /  392 loss = 0.0010\n",
      "  77  300 /  392 loss = 0.0009\n",
      "  77  310 /  392 loss = 0.0009\n",
      "  77  320 /  392 loss = 0.0011\n",
      "  77  330 /  392 loss = 0.0010\n",
      "  77  340 /  392 loss = 0.0009\n",
      "  77  350 /  392 loss = 0.0009\n",
      "  77  360 /  392 loss = 0.0010\n",
      "  77  370 /  392 loss = 0.0010\n",
      "  77  380 /  392 loss = 0.0009\n",
      "  77  390 /  392 loss = 0.0009\n",
      "2021-12-16 07:56:38: epoch =   77 , loss = 0.0639 , validation loss = 0.1504 , time = 163.57 s\n",
      "  78    0 /  392 loss = 0.0009\n",
      "  78   10 /  392 loss = 0.0010\n",
      "  78   20 /  392 loss = 0.0011\n",
      "  78   30 /  392 loss = 0.0010\n",
      "  78   40 /  392 loss = 0.0009\n",
      "  78   50 /  392 loss = 0.0009\n",
      "  78   60 /  392 loss = 0.0010\n",
      "  78   70 /  392 loss = 0.0010\n",
      "  78   80 /  392 loss = 0.0010\n",
      "  78   90 /  392 loss = 0.0009\n",
      "  78  100 /  392 loss = 0.0010\n",
      "  78  110 /  392 loss = 0.0010\n",
      "  78  120 /  392 loss = 0.0008\n",
      "  78  130 /  392 loss = 0.0011\n",
      "  78  140 /  392 loss = 0.0010\n",
      "  78  150 /  392 loss = 0.0009\n",
      "  78  160 /  392 loss = 0.0010\n",
      "  78  170 /  392 loss = 0.0011\n",
      "  78  180 /  392 loss = 0.0008\n",
      "  78  190 /  392 loss = 0.0010\n",
      "  78  200 /  392 loss = 0.0011\n",
      "  78  210 /  392 loss = 0.0010\n",
      "  78  220 /  392 loss = 0.0010\n",
      "  78  230 /  392 loss = 0.0009\n",
      "  78  240 /  392 loss = 0.0011\n",
      "  78  250 /  392 loss = 0.0010\n",
      "  78  260 /  392 loss = 0.0009\n",
      "  78  270 /  392 loss = 0.0010\n",
      "  78  280 /  392 loss = 0.0012\n",
      "  78  290 /  392 loss = 0.0009\n",
      "  78  300 /  392 loss = 0.0010\n",
      "  78  310 /  392 loss = 0.0010\n",
      "  78  320 /  392 loss = 0.0010\n",
      "  78  330 /  392 loss = 0.0011\n",
      "  78  340 /  392 loss = 0.0010\n",
      "  78  350 /  392 loss = 0.0011\n",
      "  78  360 /  392 loss = 0.0012\n",
      "  78  370 /  392 loss = 0.0010\n",
      "  78  380 /  392 loss = 0.0011\n",
      "  78  390 /  392 loss = 0.0009\n",
      "2021-12-16 07:59:55: epoch =   78 , loss = 0.0638 , validation loss = 0.1424 , time = 163.54 s\n",
      "  79    0 /  392 loss = 0.0009\n",
      "  79   10 /  392 loss = 0.0008\n",
      "  79   20 /  392 loss = 0.0012\n",
      "  79   30 /  392 loss = 0.0010\n",
      "  79   40 /  392 loss = 0.0011\n",
      "  79   50 /  392 loss = 0.0008\n",
      "  79   60 /  392 loss = 0.0009\n",
      "  79   70 /  392 loss = 0.0009\n",
      "  79   80 /  392 loss = 0.0010\n",
      "  79   90 /  392 loss = 0.0011\n",
      "  79  100 /  392 loss = 0.0010\n",
      "  79  110 /  392 loss = 0.0009\n",
      "  79  120 /  392 loss = 0.0010\n",
      "  79  130 /  392 loss = 0.0009\n",
      "  79  140 /  392 loss = 0.0009\n",
      "  79  150 /  392 loss = 0.0009\n",
      "  79  160 /  392 loss = 0.0010\n",
      "  79  170 /  392 loss = 0.0010\n",
      "  79  180 /  392 loss = 0.0009\n",
      "  79  190 /  392 loss = 0.0009\n",
      "  79  200 /  392 loss = 0.0011\n",
      "  79  210 /  392 loss = 0.0010\n",
      "  79  220 /  392 loss = 0.0010\n",
      "  79  230 /  392 loss = 0.0011\n",
      "  79  240 /  392 loss = 0.0011\n",
      "  79  250 /  392 loss = 0.0011\n",
      "  79  260 /  392 loss = 0.0011\n",
      "  79  270 /  392 loss = 0.0010\n",
      "  79  280 /  392 loss = 0.0010\n",
      "  79  290 /  392 loss = 0.0010\n",
      "  79  300 /  392 loss = 0.0009\n",
      "  79  310 /  392 loss = 0.0010\n",
      "  79  320 /  392 loss = 0.0010\n",
      "  79  330 /  392 loss = 0.0009\n",
      "  79  340 /  392 loss = 0.0008\n",
      "  79  350 /  392 loss = 0.0009\n",
      "  79  360 /  392 loss = 0.0012\n",
      "  79  370 /  392 loss = 0.0010\n",
      "  79  380 /  392 loss = 0.0010\n",
      "  79  390 /  392 loss = 0.0012\n",
      "2021-12-16 08:03:13: epoch =   79 , loss = 0.0638 , validation loss = 0.1383 , time = 163.58 s\n",
      "  80    0 /  392 loss = 0.0011\n",
      "  80   10 /  392 loss = 0.0008\n",
      "  80   20 /  392 loss = 0.0010\n",
      "  80   30 /  392 loss = 0.0010\n",
      "  80   40 /  392 loss = 0.0009\n",
      "  80   50 /  392 loss = 0.0009\n",
      "  80   60 /  392 loss = 0.0009\n",
      "  80   70 /  392 loss = 0.0009\n",
      "  80   80 /  392 loss = 0.0011\n",
      "  80   90 /  392 loss = 0.0010\n",
      "  80  100 /  392 loss = 0.0010\n",
      "  80  110 /  392 loss = 0.0012\n",
      "  80  120 /  392 loss = 0.0011\n",
      "  80  130 /  392 loss = 0.0010\n",
      "  80  140 /  392 loss = 0.0010\n",
      "  80  150 /  392 loss = 0.0009\n",
      "  80  160 /  392 loss = 0.0010\n",
      "  80  170 /  392 loss = 0.0011\n",
      "  80  180 /  392 loss = 0.0011\n",
      "  80  190 /  392 loss = 0.0011\n",
      "  80  200 /  392 loss = 0.0010\n",
      "  80  210 /  392 loss = 0.0010\n",
      "  80  220 /  392 loss = 0.0010\n",
      "  80  230 /  392 loss = 0.0011\n",
      "  80  240 /  392 loss = 0.0010\n",
      "  80  250 /  392 loss = 0.0010\n",
      "  80  260 /  392 loss = 0.0010\n",
      "  80  270 /  392 loss = 0.0010\n",
      "  80  280 /  392 loss = 0.0010\n",
      "  80  290 /  392 loss = 0.0009\n",
      "  80  300 /  392 loss = 0.0010\n",
      "  80  310 /  392 loss = 0.0011\n",
      "  80  320 /  392 loss = 0.0011\n",
      "  80  330 /  392 loss = 0.0010\n",
      "  80  340 /  392 loss = 0.0010\n",
      "  80  350 /  392 loss = 0.0009\n",
      "  80  360 /  392 loss = 0.0012\n",
      "  80  370 /  392 loss = 0.0010\n",
      "  80  380 /  392 loss = 0.0010\n",
      "  80  390 /  392 loss = 0.0009\n",
      "2021-12-16 08:06:30: epoch =   80 , loss = 0.0639 , validation loss = 0.1397 , time = 163.49 s\n",
      "  81    0 /  392 loss = 0.0010\n",
      "  81   10 /  392 loss = 0.0010\n",
      "  81   20 /  392 loss = 0.0010\n",
      "  81   30 /  392 loss = 0.0010\n",
      "  81   40 /  392 loss = 0.0010\n",
      "  81   50 /  392 loss = 0.0009\n",
      "  81   60 /  392 loss = 0.0011\n",
      "  81   70 /  392 loss = 0.0010\n",
      "  81   80 /  392 loss = 0.0010\n",
      "  81   90 /  392 loss = 0.0009\n",
      "  81  100 /  392 loss = 0.0010\n",
      "  81  110 /  392 loss = 0.0010\n",
      "  81  120 /  392 loss = 0.0010\n",
      "  81  130 /  392 loss = 0.0009\n",
      "  81  140 /  392 loss = 0.0010\n",
      "  81  150 /  392 loss = 0.0009\n",
      "  81  160 /  392 loss = 0.0009\n",
      "  81  170 /  392 loss = 0.0010\n",
      "  81  180 /  392 loss = 0.0010\n",
      "  81  190 /  392 loss = 0.0008\n",
      "  81  200 /  392 loss = 0.0009\n",
      "  81  210 /  392 loss = 0.0010\n",
      "  81  220 /  392 loss = 0.0011\n",
      "  81  230 /  392 loss = 0.0010\n",
      "  81  240 /  392 loss = 0.0010\n",
      "  81  250 /  392 loss = 0.0009\n",
      "  81  260 /  392 loss = 0.0010\n",
      "  81  270 /  392 loss = 0.0009\n",
      "  81  280 /  392 loss = 0.0009\n",
      "  81  290 /  392 loss = 0.0010\n",
      "  81  300 /  392 loss = 0.0009\n",
      "  81  310 /  392 loss = 0.0012\n",
      "  81  320 /  392 loss = 0.0009\n",
      "  81  330 /  392 loss = 0.0010\n",
      "  81  340 /  392 loss = 0.0011\n",
      "  81  350 /  392 loss = 0.0010\n",
      "  81  360 /  392 loss = 0.0010\n",
      "  81  370 /  392 loss = 0.0011\n",
      "  81  380 /  392 loss = 0.0010\n",
      "  81  390 /  392 loss = 0.0008\n",
      "2021-12-16 08:09:47: epoch =   81 , loss = 0.0639 , validation loss = 0.1550 , time = 163.51 s\n",
      "  82    0 /  392 loss = 0.0011\n",
      "  82   10 /  392 loss = 0.0009\n",
      "  82   20 /  392 loss = 0.0010\n",
      "  82   30 /  392 loss = 0.0011\n",
      "  82   40 /  392 loss = 0.0010\n",
      "  82   50 /  392 loss = 0.0010\n",
      "  82   60 /  392 loss = 0.0010\n",
      "  82   70 /  392 loss = 0.0009\n",
      "  82   80 /  392 loss = 0.0010\n",
      "  82   90 /  392 loss = 0.0009\n",
      "  82  100 /  392 loss = 0.0009\n",
      "  82  110 /  392 loss = 0.0009\n",
      "  82  120 /  392 loss = 0.0011\n",
      "  82  130 /  392 loss = 0.0010\n",
      "  82  140 /  392 loss = 0.0010\n",
      "  82  150 /  392 loss = 0.0009\n",
      "  82  160 /  392 loss = 0.0010\n",
      "  82  170 /  392 loss = 0.0012\n",
      "  82  180 /  392 loss = 0.0009\n",
      "  82  190 /  392 loss = 0.0011\n",
      "  82  200 /  392 loss = 0.0009\n",
      "  82  210 /  392 loss = 0.0010\n",
      "  82  220 /  392 loss = 0.0010\n",
      "  82  230 /  392 loss = 0.0009\n",
      "  82  240 /  392 loss = 0.0010\n",
      "  82  250 /  392 loss = 0.0009\n",
      "  82  260 /  392 loss = 0.0011\n",
      "  82  270 /  392 loss = 0.0010\n",
      "  82  280 /  392 loss = 0.0010\n",
      "  82  290 /  392 loss = 0.0009\n",
      "  82  300 /  392 loss = 0.0009\n",
      "  82  310 /  392 loss = 0.0010\n",
      "  82  320 /  392 loss = 0.0010\n",
      "  82  330 /  392 loss = 0.0010\n",
      "  82  340 /  392 loss = 0.0012\n",
      "  82  350 /  392 loss = 0.0010\n",
      "  82  360 /  392 loss = 0.0010\n",
      "  82  370 /  392 loss = 0.0009\n",
      "  82  380 /  392 loss = 0.0010\n",
      "  82  390 /  392 loss = 0.0009\n",
      "2021-12-16 08:13:06: epoch =   82 , loss = 0.0639 , validation loss = 0.1430 , time = 163.52 s\n",
      "  83    0 /  392 loss = 0.0009\n",
      "  83   10 /  392 loss = 0.0010\n",
      "  83   20 /  392 loss = 0.0010\n",
      "  83   30 /  392 loss = 0.0010\n",
      "  83   40 /  392 loss = 0.0009\n",
      "  83   50 /  392 loss = 0.0010\n",
      "  83   60 /  392 loss = 0.0009\n",
      "  83   70 /  392 loss = 0.0010\n",
      "  83   80 /  392 loss = 0.0011\n",
      "  83   90 /  392 loss = 0.0010\n",
      "  83  100 /  392 loss = 0.0011\n",
      "  83  110 /  392 loss = 0.0011\n",
      "  83  120 /  392 loss = 0.0011\n",
      "  83  130 /  392 loss = 0.0010\n",
      "  83  140 /  392 loss = 0.0011\n",
      "  83  150 /  392 loss = 0.0009\n",
      "  83  160 /  392 loss = 0.0010\n",
      "  83  170 /  392 loss = 0.0010\n",
      "  83  180 /  392 loss = 0.0009\n",
      "  83  190 /  392 loss = 0.0009\n",
      "  83  200 /  392 loss = 0.0009\n",
      "  83  210 /  392 loss = 0.0011\n",
      "  83  220 /  392 loss = 0.0008\n",
      "  83  230 /  392 loss = 0.0009\n",
      "  83  240 /  392 loss = 0.0009\n",
      "  83  250 /  392 loss = 0.0011\n",
      "  83  260 /  392 loss = 0.0011\n",
      "  83  270 /  392 loss = 0.0010\n",
      "  83  280 /  392 loss = 0.0011\n",
      "  83  290 /  392 loss = 0.0009\n",
      "  83  300 /  392 loss = 0.0011\n",
      "  83  310 /  392 loss = 0.0011\n",
      "  83  320 /  392 loss = 0.0009\n",
      "  83  330 /  392 loss = 0.0010\n",
      "  83  340 /  392 loss = 0.0011\n",
      "  83  350 /  392 loss = 0.0009\n",
      "  83  360 /  392 loss = 0.0010\n",
      "  83  370 /  392 loss = 0.0010\n",
      "  83  380 /  392 loss = 0.0009\n",
      "  83  390 /  392 loss = 0.0011\n",
      "2021-12-16 08:16:23: epoch =   83 , loss = 0.0639 , validation loss = 0.1616 , time = 163.52 s\n",
      "  84    0 /  392 loss = 0.0010\n",
      "  84   10 /  392 loss = 0.0010\n",
      "  84   20 /  392 loss = 0.0011\n",
      "  84   30 /  392 loss = 0.0009\n",
      "  84   40 /  392 loss = 0.0011\n",
      "  84   50 /  392 loss = 0.0011\n",
      "  84   60 /  392 loss = 0.0011\n",
      "  84   70 /  392 loss = 0.0011\n",
      "  84   80 /  392 loss = 0.0008\n",
      "  84   90 /  392 loss = 0.0009\n",
      "  84  100 /  392 loss = 0.0011\n",
      "  84  110 /  392 loss = 0.0010\n",
      "  84  120 /  392 loss = 0.0012\n",
      "  84  130 /  392 loss = 0.0010\n",
      "  84  140 /  392 loss = 0.0011\n",
      "  84  150 /  392 loss = 0.0010\n",
      "  84  160 /  392 loss = 0.0010\n",
      "  84  170 /  392 loss = 0.0011\n",
      "  84  180 /  392 loss = 0.0012\n",
      "  84  190 /  392 loss = 0.0010\n",
      "  84  200 /  392 loss = 0.0010\n",
      "  84  210 /  392 loss = 0.0008\n",
      "  84  220 /  392 loss = 0.0012\n",
      "  84  230 /  392 loss = 0.0009\n",
      "  84  240 /  392 loss = 0.0012\n",
      "  84  250 /  392 loss = 0.0009\n",
      "  84  260 /  392 loss = 0.0011\n",
      "  84  270 /  392 loss = 0.0010\n",
      "  84  280 /  392 loss = 0.0010\n",
      "  84  290 /  392 loss = 0.0010\n",
      "  84  300 /  392 loss = 0.0010\n",
      "  84  310 /  392 loss = 0.0010\n",
      "  84  320 /  392 loss = 0.0008\n",
      "  84  330 /  392 loss = 0.0009\n",
      "  84  340 /  392 loss = 0.0010\n",
      "  84  350 /  392 loss = 0.0009\n",
      "  84  360 /  392 loss = 0.0011\n",
      "  84  370 /  392 loss = 0.0010\n",
      "  84  380 /  392 loss = 0.0010\n",
      "  84  390 /  392 loss = 0.0009\n",
      "2021-12-16 08:19:40: epoch =   84 , loss = 0.0638 , validation loss = 0.1388 , time = 163.49 s\n",
      "  85    0 /  392 loss = 0.0008\n",
      "  85   10 /  392 loss = 0.0010\n",
      "  85   20 /  392 loss = 0.0010\n",
      "  85   30 /  392 loss = 0.0011\n",
      "  85   40 /  392 loss = 0.0011\n",
      "  85   50 /  392 loss = 0.0010\n",
      "  85   60 /  392 loss = 0.0009\n",
      "  85   70 /  392 loss = 0.0009\n",
      "  85   80 /  392 loss = 0.0011\n",
      "  85   90 /  392 loss = 0.0010\n",
      "  85  100 /  392 loss = 0.0010\n",
      "  85  110 /  392 loss = 0.0010\n",
      "  85  120 /  392 loss = 0.0009\n",
      "  85  130 /  392 loss = 0.0011\n",
      "  85  140 /  392 loss = 0.0010\n",
      "  85  150 /  392 loss = 0.0010\n",
      "  85  160 /  392 loss = 0.0011\n",
      "  85  170 /  392 loss = 0.0011\n",
      "  85  180 /  392 loss = 0.0010\n",
      "  85  190 /  392 loss = 0.0009\n",
      "  85  200 /  392 loss = 0.0011\n",
      "  85  210 /  392 loss = 0.0009\n",
      "  85  220 /  392 loss = 0.0011\n",
      "  85  230 /  392 loss = 0.0010\n",
      "  85  240 /  392 loss = 0.0010\n",
      "  85  250 /  392 loss = 0.0009\n",
      "  85  260 /  392 loss = 0.0010\n",
      "  85  270 /  392 loss = 0.0009\n",
      "  85  280 /  392 loss = 0.0011\n",
      "  85  290 /  392 loss = 0.0009\n",
      "  85  300 /  392 loss = 0.0012\n",
      "  85  310 /  392 loss = 0.0008\n",
      "  85  320 /  392 loss = 0.0010\n",
      "  85  330 /  392 loss = 0.0011\n",
      "  85  340 /  392 loss = 0.0008\n",
      "  85  350 /  392 loss = 0.0010\n",
      "  85  360 /  392 loss = 0.0011\n",
      "  85  370 /  392 loss = 0.0009\n",
      "  85  380 /  392 loss = 0.0011\n",
      "  85  390 /  392 loss = 0.0009\n",
      "2021-12-16 08:22:57: epoch =   85 , loss = 0.0639 , validation loss = 0.1629 , time = 163.44 s\n",
      "  86    0 /  392 loss = 0.0009\n",
      "  86   10 /  392 loss = 0.0010\n",
      "  86   20 /  392 loss = 0.0010\n",
      "  86   30 /  392 loss = 0.0009\n",
      "  86   40 /  392 loss = 0.0010\n",
      "  86   50 /  392 loss = 0.0009\n",
      "  86   60 /  392 loss = 0.0011\n",
      "  86   70 /  392 loss = 0.0010\n",
      "  86   80 /  392 loss = 0.0010\n",
      "  86   90 /  392 loss = 0.0011\n",
      "  86  100 /  392 loss = 0.0009\n",
      "  86  110 /  392 loss = 0.0010\n",
      "  86  120 /  392 loss = 0.0010\n",
      "  86  130 /  392 loss = 0.0009\n",
      "  86  140 /  392 loss = 0.0011\n",
      "  86  150 /  392 loss = 0.0010\n",
      "  86  160 /  392 loss = 0.0009\n",
      "  86  170 /  392 loss = 0.0008\n",
      "  86  180 /  392 loss = 0.0009\n",
      "  86  190 /  392 loss = 0.0011\n",
      "  86  200 /  392 loss = 0.0010\n",
      "  86  210 /  392 loss = 0.0010\n",
      "  86  220 /  392 loss = 0.0010\n",
      "  86  230 /  392 loss = 0.0009\n",
      "  86  240 /  392 loss = 0.0009\n",
      "  86  250 /  392 loss = 0.0012\n",
      "  86  260 /  392 loss = 0.0009\n",
      "  86  270 /  392 loss = 0.0009\n",
      "  86  280 /  392 loss = 0.0011\n",
      "  86  290 /  392 loss = 0.0011\n",
      "  86  300 /  392 loss = 0.0009\n",
      "  86  310 /  392 loss = 0.0010\n",
      "  86  320 /  392 loss = 0.0009\n",
      "  86  330 /  392 loss = 0.0009\n",
      "  86  340 /  392 loss = 0.0010\n",
      "  86  350 /  392 loss = 0.0010\n",
      "  86  360 /  392 loss = 0.0011\n",
      "  86  370 /  392 loss = 0.0010\n",
      "  86  380 /  392 loss = 0.0010\n",
      "  86  390 /  392 loss = 0.0010\n",
      "2021-12-16 08:26:14: epoch =   86 , loss = 0.0638 , validation loss = 0.1791 , time = 163.46 s\n",
      "  87    0 /  392 loss = 0.0010\n",
      "  87   10 /  392 loss = 0.0011\n",
      "  87   20 /  392 loss = 0.0009\n",
      "  87   30 /  392 loss = 0.0011\n",
      "  87   40 /  392 loss = 0.0010\n",
      "  87   50 /  392 loss = 0.0009\n",
      "  87   60 /  392 loss = 0.0009\n",
      "  87   70 /  392 loss = 0.0010\n",
      "  87   80 /  392 loss = 0.0009\n",
      "  87   90 /  392 loss = 0.0012\n",
      "  87  100 /  392 loss = 0.0009\n",
      "  87  110 /  392 loss = 0.0010\n",
      "  87  120 /  392 loss = 0.0010\n",
      "  87  130 /  392 loss = 0.0011\n",
      "  87  140 /  392 loss = 0.0011\n",
      "  87  150 /  392 loss = 0.0010\n",
      "  87  160 /  392 loss = 0.0010\n",
      "  87  170 /  392 loss = 0.0010\n",
      "  87  180 /  392 loss = 0.0010\n",
      "  87  190 /  392 loss = 0.0012\n",
      "  87  200 /  392 loss = 0.0010\n",
      "  87  210 /  392 loss = 0.0011\n",
      "  87  220 /  392 loss = 0.0010\n",
      "  87  230 /  392 loss = 0.0010\n",
      "  87  240 /  392 loss = 0.0012\n",
      "  87  250 /  392 loss = 0.0010\n",
      "  87  260 /  392 loss = 0.0010\n",
      "  87  270 /  392 loss = 0.0009\n",
      "  87  280 /  392 loss = 0.0009\n",
      "  87  290 /  392 loss = 0.0009\n",
      "  87  300 /  392 loss = 0.0009\n",
      "  87  310 /  392 loss = 0.0009\n",
      "  87  320 /  392 loss = 0.0011\n",
      "  87  330 /  392 loss = 0.0011\n",
      "  87  340 /  392 loss = 0.0010\n",
      "  87  350 /  392 loss = 0.0010\n",
      "  87  360 /  392 loss = 0.0010\n",
      "  87  370 /  392 loss = 0.0009\n",
      "  87  380 /  392 loss = 0.0011\n",
      "  87  390 /  392 loss = 0.0012\n",
      "2021-12-16 08:29:32: epoch =   87 , loss = 0.0639 , validation loss = 0.1367 , time = 163.56 s\n",
      "  88    0 /  392 loss = 0.0011\n",
      "  88   10 /  392 loss = 0.0010\n",
      "  88   20 /  392 loss = 0.0012\n",
      "  88   30 /  392 loss = 0.0010\n",
      "  88   40 /  392 loss = 0.0010\n",
      "  88   50 /  392 loss = 0.0008\n",
      "  88   60 /  392 loss = 0.0012\n",
      "  88   70 /  392 loss = 0.0010\n",
      "  88   80 /  392 loss = 0.0010\n",
      "  88   90 /  392 loss = 0.0009\n",
      "  88  100 /  392 loss = 0.0011\n",
      "  88  110 /  392 loss = 0.0010\n",
      "  88  120 /  392 loss = 0.0010\n",
      "  88  130 /  392 loss = 0.0010\n",
      "  88  140 /  392 loss = 0.0010\n",
      "  88  150 /  392 loss = 0.0010\n",
      "  88  160 /  392 loss = 0.0009\n",
      "  88  170 /  392 loss = 0.0011\n",
      "  88  180 /  392 loss = 0.0011\n",
      "  88  190 /  392 loss = 0.0011\n",
      "  88  200 /  392 loss = 0.0011\n",
      "  88  210 /  392 loss = 0.0008\n",
      "  88  220 /  392 loss = 0.0010\n",
      "  88  230 /  392 loss = 0.0010\n",
      "  88  240 /  392 loss = 0.0009\n",
      "  88  250 /  392 loss = 0.0010\n",
      "  88  260 /  392 loss = 0.0011\n",
      "  88  270 /  392 loss = 0.0009\n",
      "  88  280 /  392 loss = 0.0010\n",
      "  88  290 /  392 loss = 0.0009\n",
      "  88  300 /  392 loss = 0.0008\n",
      "  88  310 /  392 loss = 0.0012\n",
      "  88  320 /  392 loss = 0.0008\n",
      "  88  330 /  392 loss = 0.0010\n",
      "  88  340 /  392 loss = 0.0009\n",
      "  88  350 /  392 loss = 0.0011\n",
      "  88  360 /  392 loss = 0.0010\n",
      "  88  370 /  392 loss = 0.0009\n",
      "  88  380 /  392 loss = 0.0011\n",
      "  88  390 /  392 loss = 0.0010\n",
      "2021-12-16 08:32:49: epoch =   88 , loss = 0.0638 , validation loss = 0.1351 , time = 163.45 s\n",
      "  89    0 /  392 loss = 0.0010\n",
      "  89   10 /  392 loss = 0.0010\n",
      "  89   20 /  392 loss = 0.0010\n",
      "  89   30 /  392 loss = 0.0010\n",
      "  89   40 /  392 loss = 0.0011\n",
      "  89   50 /  392 loss = 0.0010\n",
      "  89   60 /  392 loss = 0.0009\n",
      "  89   70 /  392 loss = 0.0012\n",
      "  89   80 /  392 loss = 0.0011\n",
      "  89   90 /  392 loss = 0.0011\n",
      "  89  100 /  392 loss = 0.0009\n",
      "  89  110 /  392 loss = 0.0010\n",
      "  89  120 /  392 loss = 0.0012\n",
      "  89  130 /  392 loss = 0.0011\n",
      "  89  140 /  392 loss = 0.0008\n",
      "  89  150 /  392 loss = 0.0010\n",
      "  89  160 /  392 loss = 0.0010\n",
      "  89  170 /  392 loss = 0.0012\n",
      "  89  180 /  392 loss = 0.0010\n",
      "  89  190 /  392 loss = 0.0010\n",
      "  89  200 /  392 loss = 0.0009\n",
      "  89  210 /  392 loss = 0.0011\n",
      "  89  220 /  392 loss = 0.0009\n",
      "  89  230 /  392 loss = 0.0009\n",
      "  89  240 /  392 loss = 0.0011\n",
      "  89  250 /  392 loss = 0.0011\n",
      "  89  260 /  392 loss = 0.0010\n",
      "  89  270 /  392 loss = 0.0008\n",
      "  89  280 /  392 loss = 0.0010\n",
      "  89  290 /  392 loss = 0.0011\n",
      "  89  300 /  392 loss = 0.0011\n",
      "  89  310 /  392 loss = 0.0010\n",
      "  89  320 /  392 loss = 0.0009\n",
      "  89  330 /  392 loss = 0.0010\n",
      "  89  340 /  392 loss = 0.0009\n",
      "  89  350 /  392 loss = 0.0012\n",
      "  89  360 /  392 loss = 0.0010\n",
      "  89  370 /  392 loss = 0.0010\n",
      "  89  380 /  392 loss = 0.0009\n",
      "  89  390 /  392 loss = 0.0010\n",
      "2021-12-16 08:36:06: epoch =   89 , loss = 0.0638 , validation loss = 0.1390 , time = 163.42 s\n",
      "  90    0 /  392 loss = 0.0011\n",
      "  90   10 /  392 loss = 0.0012\n",
      "  90   20 /  392 loss = 0.0012\n",
      "  90   30 /  392 loss = 0.0010\n",
      "  90   40 /  392 loss = 0.0010\n",
      "  90   50 /  392 loss = 0.0010\n",
      "  90   60 /  392 loss = 0.0010\n",
      "  90   70 /  392 loss = 0.0009\n",
      "  90   80 /  392 loss = 0.0011\n",
      "  90   90 /  392 loss = 0.0010\n",
      "  90  100 /  392 loss = 0.0009\n",
      "  90  110 /  392 loss = 0.0009\n",
      "  90  120 /  392 loss = 0.0009\n",
      "  90  130 /  392 loss = 0.0009\n",
      "  90  140 /  392 loss = 0.0009\n",
      "  90  150 /  392 loss = 0.0010\n",
      "  90  160 /  392 loss = 0.0010\n",
      "  90  170 /  392 loss = 0.0008\n",
      "  90  180 /  392 loss = 0.0010\n",
      "  90  190 /  392 loss = 0.0008\n",
      "  90  200 /  392 loss = 0.0010\n",
      "  90  210 /  392 loss = 0.0009\n",
      "  90  220 /  392 loss = 0.0009\n",
      "  90  230 /  392 loss = 0.0009\n",
      "  90  240 /  392 loss = 0.0010\n",
      "  90  250 /  392 loss = 0.0010\n",
      "  90  260 /  392 loss = 0.0011\n",
      "  90  270 /  392 loss = 0.0009\n",
      "  90  280 /  392 loss = 0.0011\n",
      "  90  290 /  392 loss = 0.0009\n",
      "  90  300 /  392 loss = 0.0010\n",
      "  90  310 /  392 loss = 0.0011\n",
      "  90  320 /  392 loss = 0.0008\n",
      "  90  330 /  392 loss = 0.0011\n",
      "  90  340 /  392 loss = 0.0010\n",
      "  90  350 /  392 loss = 0.0010\n",
      "  90  360 /  392 loss = 0.0011\n",
      "  90  370 /  392 loss = 0.0010\n",
      "  90  380 /  392 loss = 0.0010\n",
      "  90  390 /  392 loss = 0.0010\n",
      "2021-12-16 08:39:23: epoch =   90 , loss = 0.0639 , validation loss = 0.1494 , time = 163.44 s\n",
      "  91    0 /  392 loss = 0.0010\n",
      "  91   10 /  392 loss = 0.0011\n",
      "  91   20 /  392 loss = 0.0008\n",
      "  91   30 /  392 loss = 0.0011\n",
      "  91   40 /  392 loss = 0.0011\n",
      "  91   50 /  392 loss = 0.0009\n",
      "  91   60 /  392 loss = 0.0009\n",
      "  91   70 /  392 loss = 0.0010\n",
      "  91   80 /  392 loss = 0.0011\n",
      "  91   90 /  392 loss = 0.0008\n",
      "  91  100 /  392 loss = 0.0011\n",
      "  91  110 /  392 loss = 0.0010\n",
      "  91  120 /  392 loss = 0.0009\n",
      "  91  130 /  392 loss = 0.0012\n",
      "  91  140 /  392 loss = 0.0009\n",
      "  91  150 /  392 loss = 0.0008\n",
      "  91  160 /  392 loss = 0.0010\n",
      "  91  170 /  392 loss = 0.0011\n",
      "  91  180 /  392 loss = 0.0009\n",
      "  91  190 /  392 loss = 0.0010\n",
      "  91  200 /  392 loss = 0.0010\n",
      "  91  210 /  392 loss = 0.0011\n",
      "  91  220 /  392 loss = 0.0010\n",
      "  91  230 /  392 loss = 0.0010\n",
      "  91  240 /  392 loss = 0.0010\n",
      "  91  250 /  392 loss = 0.0009\n",
      "  91  260 /  392 loss = 0.0010\n",
      "  91  270 /  392 loss = 0.0010\n",
      "  91  280 /  392 loss = 0.0010\n",
      "  91  290 /  392 loss = 0.0010\n",
      "  91  300 /  392 loss = 0.0008\n",
      "  91  310 /  392 loss = 0.0010\n",
      "  91  320 /  392 loss = 0.0010\n",
      "  91  330 /  392 loss = 0.0010\n",
      "  91  340 /  392 loss = 0.0011\n",
      "  91  350 /  392 loss = 0.0011\n",
      "  91  360 /  392 loss = 0.0009\n",
      "  91  370 /  392 loss = 0.0010\n",
      "  91  380 /  392 loss = 0.0010\n",
      "  91  390 /  392 loss = 0.0007\n",
      "2021-12-16 08:42:40: epoch =   91 , loss = 0.0638 , validation loss = 0.1376 , time = 163.47 s\n",
      "  92    0 /  392 loss = 0.0010\n",
      "  92   10 /  392 loss = 0.0008\n",
      "  92   20 /  392 loss = 0.0010\n",
      "  92   30 /  392 loss = 0.0009\n",
      "  92   40 /  392 loss = 0.0009\n",
      "  92   50 /  392 loss = 0.0009\n",
      "  92   60 /  392 loss = 0.0008\n",
      "  92   70 /  392 loss = 0.0009\n",
      "  92   80 /  392 loss = 0.0010\n",
      "  92   90 /  392 loss = 0.0011\n",
      "  92  100 /  392 loss = 0.0009\n",
      "  92  110 /  392 loss = 0.0010\n",
      "  92  120 /  392 loss = 0.0010\n",
      "  92  130 /  392 loss = 0.0010\n",
      "  92  140 /  392 loss = 0.0011\n",
      "  92  150 /  392 loss = 0.0010\n",
      "  92  160 /  392 loss = 0.0009\n",
      "  92  170 /  392 loss = 0.0011\n",
      "  92  180 /  392 loss = 0.0011\n",
      "  92  190 /  392 loss = 0.0011\n",
      "  92  200 /  392 loss = 0.0010\n",
      "  92  210 /  392 loss = 0.0009\n",
      "  92  220 /  392 loss = 0.0012\n",
      "  92  230 /  392 loss = 0.0010\n",
      "  92  240 /  392 loss = 0.0008\n",
      "  92  250 /  392 loss = 0.0012\n",
      "  92  260 /  392 loss = 0.0010\n",
      "  92  270 /  392 loss = 0.0011\n",
      "  92  280 /  392 loss = 0.0009\n",
      "  92  290 /  392 loss = 0.0011\n",
      "  92  300 /  392 loss = 0.0010\n",
      "  92  310 /  392 loss = 0.0009\n",
      "  92  320 /  392 loss = 0.0012\n",
      "  92  330 /  392 loss = 0.0009\n",
      "  92  340 /  392 loss = 0.0010\n",
      "  92  350 /  392 loss = 0.0010\n",
      "  92  360 /  392 loss = 0.0010\n",
      "  92  370 /  392 loss = 0.0010\n",
      "  92  380 /  392 loss = 0.0011\n",
      "  92  390 /  392 loss = 0.0011\n",
      "2021-12-16 08:45:57: epoch =   92 , loss = 0.0638 , validation loss = 0.1784 , time = 163.46 s\n",
      "  93    0 /  392 loss = 0.0010\n",
      "  93   10 /  392 loss = 0.0010\n",
      "  93   20 /  392 loss = 0.0010\n",
      "  93   30 /  392 loss = 0.0010\n",
      "  93   40 /  392 loss = 0.0012\n",
      "  93   50 /  392 loss = 0.0010\n",
      "  93   60 /  392 loss = 0.0011\n",
      "  93   70 /  392 loss = 0.0010\n",
      "  93   80 /  392 loss = 0.0010\n",
      "  93   90 /  392 loss = 0.0010\n",
      "  93  100 /  392 loss = 0.0010\n",
      "  93  110 /  392 loss = 0.0010\n",
      "  93  120 /  392 loss = 0.0010\n",
      "  93  130 /  392 loss = 0.0010\n",
      "  93  140 /  392 loss = 0.0008\n",
      "  93  150 /  392 loss = 0.0012\n",
      "  93  160 /  392 loss = 0.0011\n",
      "  93  170 /  392 loss = 0.0010\n",
      "  93  180 /  392 loss = 0.0010\n",
      "  93  190 /  392 loss = 0.0009\n",
      "  93  200 /  392 loss = 0.0010\n",
      "  93  210 /  392 loss = 0.0011\n",
      "  93  220 /  392 loss = 0.0010\n",
      "  93  230 /  392 loss = 0.0010\n",
      "  93  240 /  392 loss = 0.0009\n",
      "  93  250 /  392 loss = 0.0010\n",
      "  93  260 /  392 loss = 0.0010\n",
      "  93  270 /  392 loss = 0.0010\n",
      "  93  280 /  392 loss = 0.0009\n",
      "  93  290 /  392 loss = 0.0008\n",
      "  93  300 /  392 loss = 0.0010\n",
      "  93  310 /  392 loss = 0.0010\n",
      "  93  320 /  392 loss = 0.0010\n",
      "  93  330 /  392 loss = 0.0010\n",
      "  93  340 /  392 loss = 0.0012\n",
      "  93  350 /  392 loss = 0.0010\n",
      "  93  360 /  392 loss = 0.0010\n",
      "  93  370 /  392 loss = 0.0009\n",
      "  93  380 /  392 loss = 0.0010\n",
      "  93  390 /  392 loss = 0.0011\n",
      "2021-12-16 08:49:14: epoch =   93 , loss = 0.0638 , validation loss = 0.1395 , time = 163.42 s\n",
      "  94    0 /  392 loss = 0.0012\n",
      "  94   10 /  392 loss = 0.0010\n",
      "  94   20 /  392 loss = 0.0009\n",
      "  94   30 /  392 loss = 0.0009\n",
      "  94   40 /  392 loss = 0.0009\n",
      "  94   50 /  392 loss = 0.0011\n",
      "  94   60 /  392 loss = 0.0010\n",
      "  94   70 /  392 loss = 0.0010\n",
      "  94   80 /  392 loss = 0.0011\n",
      "  94   90 /  392 loss = 0.0011\n",
      "  94  100 /  392 loss = 0.0011\n",
      "  94  110 /  392 loss = 0.0010\n",
      "  94  120 /  392 loss = 0.0009\n",
      "  94  130 /  392 loss = 0.0009\n",
      "  94  140 /  392 loss = 0.0011\n",
      "  94  150 /  392 loss = 0.0012\n",
      "  94  160 /  392 loss = 0.0010\n",
      "  94  170 /  392 loss = 0.0010\n",
      "  94  180 /  392 loss = 0.0011\n",
      "  94  190 /  392 loss = 0.0011\n",
      "  94  200 /  392 loss = 0.0011\n",
      "  94  210 /  392 loss = 0.0010\n",
      "  94  220 /  392 loss = 0.0010\n",
      "  94  230 /  392 loss = 0.0009\n",
      "  94  240 /  392 loss = 0.0010\n",
      "  94  250 /  392 loss = 0.0011\n",
      "  94  260 /  392 loss = 0.0008\n",
      "  94  270 /  392 loss = 0.0010\n",
      "  94  280 /  392 loss = 0.0010\n",
      "  94  290 /  392 loss = 0.0011\n",
      "  94  300 /  392 loss = 0.0010\n",
      "  94  310 /  392 loss = 0.0009\n",
      "  94  320 /  392 loss = 0.0009\n",
      "  94  330 /  392 loss = 0.0010\n",
      "  94  340 /  392 loss = 0.0009\n",
      "  94  350 /  392 loss = 0.0009\n",
      "  94  360 /  392 loss = 0.0009\n",
      "  94  370 /  392 loss = 0.0010\n",
      "  94  380 /  392 loss = 0.0011\n",
      "  94  390 /  392 loss = 0.0009\n",
      "2021-12-16 08:52:31: epoch =   94 , loss = 0.0638 , validation loss = 0.1405 , time = 163.44 s\n",
      "  95    0 /  392 loss = 0.0009\n",
      "  95   10 /  392 loss = 0.0011\n",
      "  95   20 /  392 loss = 0.0011\n",
      "  95   30 /  392 loss = 0.0010\n",
      "  95   40 /  392 loss = 0.0009\n",
      "  95   50 /  392 loss = 0.0009\n",
      "  95   60 /  392 loss = 0.0010\n",
      "  95   70 /  392 loss = 0.0010\n",
      "  95   80 /  392 loss = 0.0011\n",
      "  95   90 /  392 loss = 0.0010\n",
      "  95  100 /  392 loss = 0.0010\n",
      "  95  110 /  392 loss = 0.0010\n",
      "  95  120 /  392 loss = 0.0011\n",
      "  95  130 /  392 loss = 0.0011\n",
      "  95  140 /  392 loss = 0.0009\n",
      "  95  150 /  392 loss = 0.0009\n",
      "  95  160 /  392 loss = 0.0009\n",
      "  95  170 /  392 loss = 0.0010\n",
      "  95  180 /  392 loss = 0.0010\n",
      "  95  190 /  392 loss = 0.0010\n",
      "  95  200 /  392 loss = 0.0011\n",
      "  95  210 /  392 loss = 0.0012\n",
      "  95  220 /  392 loss = 0.0010\n",
      "  95  230 /  392 loss = 0.0009\n",
      "  95  240 /  392 loss = 0.0010\n",
      "  95  250 /  392 loss = 0.0011\n",
      "  95  260 /  392 loss = 0.0010\n",
      "  95  270 /  392 loss = 0.0011\n",
      "  95  280 /  392 loss = 0.0010\n",
      "  95  290 /  392 loss = 0.0010\n",
      "  95  300 /  392 loss = 0.0010\n",
      "  95  310 /  392 loss = 0.0009\n",
      "  95  320 /  392 loss = 0.0008\n",
      "  95  330 /  392 loss = 0.0008\n",
      "  95  340 /  392 loss = 0.0010\n",
      "  95  350 /  392 loss = 0.0010\n",
      "  95  360 /  392 loss = 0.0010\n",
      "  95  370 /  392 loss = 0.0008\n",
      "  95  380 /  392 loss = 0.0010\n",
      "  95  390 /  392 loss = 0.0010\n",
      "2021-12-16 08:55:48: epoch =   95 , loss = 0.0638 , validation loss = 0.1439 , time = 163.41 s\n",
      "  96    0 /  392 loss = 0.0010\n",
      "  96   10 /  392 loss = 0.0009\n",
      "  96   20 /  392 loss = 0.0010\n",
      "  96   30 /  392 loss = 0.0012\n",
      "  96   40 /  392 loss = 0.0012\n",
      "  96   50 /  392 loss = 0.0010\n",
      "  96   60 /  392 loss = 0.0010\n",
      "  96   70 /  392 loss = 0.0011\n",
      "  96   80 /  392 loss = 0.0009\n",
      "  96   90 /  392 loss = 0.0010\n",
      "  96  100 /  392 loss = 0.0010\n",
      "  96  110 /  392 loss = 0.0010\n",
      "  96  120 /  392 loss = 0.0011\n",
      "  96  130 /  392 loss = 0.0010\n",
      "  96  140 /  392 loss = 0.0012\n",
      "  96  150 /  392 loss = 0.0011\n",
      "  96  160 /  392 loss = 0.0011\n",
      "  96  170 /  392 loss = 0.0011\n",
      "  96  180 /  392 loss = 0.0011\n",
      "  96  190 /  392 loss = 0.0011\n",
      "  96  200 /  392 loss = 0.0011\n",
      "  96  210 /  392 loss = 0.0010\n",
      "  96  220 /  392 loss = 0.0011\n",
      "  96  230 /  392 loss = 0.0010\n",
      "  96  240 /  392 loss = 0.0009\n",
      "  96  250 /  392 loss = 0.0010\n",
      "  96  260 /  392 loss = 0.0010\n",
      "  96  270 /  392 loss = 0.0010\n",
      "  96  280 /  392 loss = 0.0011\n",
      "  96  290 /  392 loss = 0.0009\n",
      "  96  300 /  392 loss = 0.0009\n",
      "  96  310 /  392 loss = 0.0010\n",
      "  96  320 /  392 loss = 0.0011\n",
      "  96  330 /  392 loss = 0.0010\n",
      "  96  340 /  392 loss = 0.0009\n",
      "  96  350 /  392 loss = 0.0009\n",
      "  96  360 /  392 loss = 0.0010\n",
      "  96  370 /  392 loss = 0.0010\n",
      "  96  380 /  392 loss = 0.0009\n",
      "  96  390 /  392 loss = 0.0010\n",
      "2021-12-16 08:59:05: epoch =   96 , loss = 0.0638 , validation loss = 0.1669 , time = 163.39 s\n",
      "  97    0 /  392 loss = 0.0012\n",
      "  97   10 /  392 loss = 0.0010\n",
      "  97   20 /  392 loss = 0.0010\n",
      "  97   30 /  392 loss = 0.0009\n",
      "  97   40 /  392 loss = 0.0010\n",
      "  97   50 /  392 loss = 0.0009\n",
      "  97   60 /  392 loss = 0.0010\n",
      "  97   70 /  392 loss = 0.0011\n",
      "  97   80 /  392 loss = 0.0012\n",
      "  97   90 /  392 loss = 0.0010\n",
      "  97  100 /  392 loss = 0.0010\n",
      "  97  110 /  392 loss = 0.0010\n",
      "  97  120 /  392 loss = 0.0009\n",
      "  97  130 /  392 loss = 0.0009\n",
      "  97  140 /  392 loss = 0.0009\n",
      "  97  150 /  392 loss = 0.0010\n",
      "  97  160 /  392 loss = 0.0011\n",
      "  97  170 /  392 loss = 0.0012\n",
      "  97  180 /  392 loss = 0.0009\n",
      "  97  190 /  392 loss = 0.0010\n",
      "  97  200 /  392 loss = 0.0010\n",
      "  97  210 /  392 loss = 0.0010\n",
      "  97  220 /  392 loss = 0.0009\n",
      "  97  230 /  392 loss = 0.0010\n",
      "  97  240 /  392 loss = 0.0010\n",
      "  97  250 /  392 loss = 0.0009\n",
      "  97  260 /  392 loss = 0.0009\n",
      "  97  270 /  392 loss = 0.0010\n",
      "  97  280 /  392 loss = 0.0008\n",
      "  97  290 /  392 loss = 0.0010\n",
      "  97  300 /  392 loss = 0.0009\n",
      "  97  310 /  392 loss = 0.0009\n",
      "  97  320 /  392 loss = 0.0009\n",
      "  97  330 /  392 loss = 0.0010\n",
      "  97  340 /  392 loss = 0.0011\n",
      "  97  350 /  392 loss = 0.0009\n",
      "  97  360 /  392 loss = 0.0010\n",
      "  97  370 /  392 loss = 0.0011\n",
      "  97  380 /  392 loss = 0.0010\n",
      "  97  390 /  392 loss = 0.0011\n",
      "2021-12-16 09:02:23: epoch =   97 , loss = 0.0638 , validation loss = 0.1598 , time = 163.43 s\n",
      "  98    0 /  392 loss = 0.0009\n",
      "  98   10 /  392 loss = 0.0010\n",
      "  98   20 /  392 loss = 0.0010\n",
      "  98   30 /  392 loss = 0.0010\n",
      "  98   40 /  392 loss = 0.0010\n",
      "  98   50 /  392 loss = 0.0011\n",
      "  98   60 /  392 loss = 0.0010\n",
      "  98   70 /  392 loss = 0.0008\n",
      "  98   80 /  392 loss = 0.0011\n",
      "  98   90 /  392 loss = 0.0008\n",
      "  98  100 /  392 loss = 0.0010\n",
      "  98  110 /  392 loss = 0.0010\n",
      "  98  120 /  392 loss = 0.0010\n",
      "  98  130 /  392 loss = 0.0010\n",
      "  98  140 /  392 loss = 0.0010\n",
      "  98  150 /  392 loss = 0.0010\n",
      "  98  160 /  392 loss = 0.0010\n",
      "  98  170 /  392 loss = 0.0010\n",
      "  98  180 /  392 loss = 0.0009\n",
      "  98  190 /  392 loss = 0.0009\n",
      "  98  200 /  392 loss = 0.0011\n",
      "  98  210 /  392 loss = 0.0010\n",
      "  98  220 /  392 loss = 0.0010\n",
      "  98  230 /  392 loss = 0.0010\n",
      "  98  240 /  392 loss = 0.0010\n",
      "  98  250 /  392 loss = 0.0010\n",
      "  98  260 /  392 loss = 0.0011\n",
      "  98  270 /  392 loss = 0.0011\n",
      "  98  280 /  392 loss = 0.0009\n",
      "  98  290 /  392 loss = 0.0010\n",
      "  98  300 /  392 loss = 0.0011\n",
      "  98  310 /  392 loss = 0.0008\n",
      "  98  320 /  392 loss = 0.0011\n",
      "  98  330 /  392 loss = 0.0010\n",
      "  98  340 /  392 loss = 0.0009\n",
      "  98  350 /  392 loss = 0.0009\n",
      "  98  360 /  392 loss = 0.0009\n",
      "  98  370 /  392 loss = 0.0011\n",
      "  98  380 /  392 loss = 0.0009\n",
      "  98  390 /  392 loss = 0.0009\n",
      "2021-12-16 09:05:40: epoch =   98 , loss = 0.0638 , validation loss = 0.1535 , time = 163.43 s\n",
      "  99    0 /  392 loss = 0.0011\n",
      "  99   10 /  392 loss = 0.0010\n",
      "  99   20 /  392 loss = 0.0010\n",
      "  99   30 /  392 loss = 0.0011\n",
      "  99   40 /  392 loss = 0.0010\n",
      "  99   50 /  392 loss = 0.0009\n",
      "  99   60 /  392 loss = 0.0011\n",
      "  99   70 /  392 loss = 0.0009\n",
      "  99   80 /  392 loss = 0.0009\n",
      "  99   90 /  392 loss = 0.0011\n",
      "  99  100 /  392 loss = 0.0010\n",
      "  99  110 /  392 loss = 0.0011\n",
      "  99  120 /  392 loss = 0.0010\n",
      "  99  130 /  392 loss = 0.0010\n",
      "  99  140 /  392 loss = 0.0009\n",
      "  99  150 /  392 loss = 0.0010\n",
      "  99  160 /  392 loss = 0.0010\n",
      "  99  170 /  392 loss = 0.0011\n",
      "  99  180 /  392 loss = 0.0010\n",
      "  99  190 /  392 loss = 0.0010\n",
      "  99  200 /  392 loss = 0.0011\n",
      "  99  210 /  392 loss = 0.0008\n",
      "  99  220 /  392 loss = 0.0010\n",
      "  99  230 /  392 loss = 0.0011\n",
      "  99  240 /  392 loss = 0.0011\n",
      "  99  250 /  392 loss = 0.0011\n",
      "  99  260 /  392 loss = 0.0009\n",
      "  99  270 /  392 loss = 0.0012\n",
      "  99  280 /  392 loss = 0.0008\n",
      "  99  290 /  392 loss = 0.0009\n",
      "  99  300 /  392 loss = 0.0011\n",
      "  99  310 /  392 loss = 0.0009\n",
      "  99  320 /  392 loss = 0.0010\n",
      "  99  330 /  392 loss = 0.0011\n",
      "  99  340 /  392 loss = 0.0009\n",
      "  99  350 /  392 loss = 0.0010\n",
      "  99  360 /  392 loss = 0.0010\n",
      "  99  370 /  392 loss = 0.0011\n",
      "  99  380 /  392 loss = 0.0011\n",
      "  99  390 /  392 loss = 0.0010\n",
      "2021-12-16 09:08:57: epoch =   99 , loss = 0.0638 , validation loss = 0.1345 , time = 163.40 s\n",
      " 100    0 /  392 loss = 0.0011\n",
      " 100   10 /  392 loss = 0.0010\n",
      " 100   20 /  392 loss = 0.0009\n",
      " 100   30 /  392 loss = 0.0011\n",
      " 100   40 /  392 loss = 0.0010\n",
      " 100   50 /  392 loss = 0.0009\n",
      " 100   60 /  392 loss = 0.0010\n",
      " 100   70 /  392 loss = 0.0010\n",
      " 100   80 /  392 loss = 0.0010\n",
      " 100   90 /  392 loss = 0.0011\n",
      " 100  100 /  392 loss = 0.0010\n",
      " 100  110 /  392 loss = 0.0010\n",
      " 100  120 /  392 loss = 0.0010\n",
      " 100  130 /  392 loss = 0.0009\n",
      " 100  140 /  392 loss = 0.0010\n",
      " 100  150 /  392 loss = 0.0010\n",
      " 100  160 /  392 loss = 0.0011\n",
      " 100  170 /  392 loss = 0.0010\n",
      " 100  180 /  392 loss = 0.0011\n",
      " 100  190 /  392 loss = 0.0010\n",
      " 100  200 /  392 loss = 0.0010\n",
      " 100  210 /  392 loss = 0.0009\n",
      " 100  220 /  392 loss = 0.0010\n",
      " 100  230 /  392 loss = 0.0010\n",
      " 100  240 /  392 loss = 0.0009\n",
      " 100  250 /  392 loss = 0.0010\n",
      " 100  260 /  392 loss = 0.0011\n",
      " 100  270 /  392 loss = 0.0009\n",
      " 100  280 /  392 loss = 0.0010\n",
      " 100  290 /  392 loss = 0.0009\n",
      " 100  300 /  392 loss = 0.0010\n",
      " 100  310 /  392 loss = 0.0009\n",
      " 100  320 /  392 loss = 0.0011\n",
      " 100  330 /  392 loss = 0.0010\n"
     ]
    }
   ],
   "source": [
    "print('===> Building model')\n",
    "model = DnCNN()\n",
    "    \n",
    "initial_epoch = findLastCheckpoint(save_dir=save_dir)  # load the last model in matconvnet style\n",
    "    \n",
    "if initial_epoch > 0:\n",
    "    print('resuming by loading epoch %03d' % initial_epoch)\n",
    "    model = torch.load(os.path.join(save_dir, 'model_%03d.pth' % initial_epoch))\n",
    "    \n",
    "    \n",
    "criterion = nn.MSELoss(reduction = 'mean')\n",
    "optimizer = optim.Adam(model.parameters(), lr=args.lr)\n",
    "scheduler = MultiStepLR(optimizer, milestones=[30, 60, 90], gamma=0.2)  # learning rates\n",
    "    \n",
    "psnr = []\n",
    "ssim = []\n",
    "train_loss = []\n",
    "valid_loss = []\n",
    "\n",
    "\n",
    "for epoch in range(initial_epoch, n_epoch):\n",
    "\n",
    "    model.train()\n",
    "        \n",
    "    if cuda:\n",
    "        model = model.cuda()\n",
    "        \n",
    "    psnr_epoch = []\n",
    "    ssim_epoch = []\n",
    "\n",
    "    scheduler.step(epoch)  # step to the learning rate in this epcoh\n",
    "    epoch_loss = 0\n",
    "    vloss = 0\n",
    "    count = 0\n",
    "    start_time = time.time()\n",
    "\n",
    "    for n_count, batch_yx in enumerate(DLoader):\n",
    "                \n",
    "        optimizer.zero_grad()\n",
    "                \n",
    "        if cuda:\n",
    "            batch_y, batch_x = batch_yx[0].cuda(), batch_yx[1].cuda()\n",
    "            device = torch.device(\"cuda\")\n",
    "                \n",
    "        torch.cuda.empty_cache()\n",
    "        denoising = model(batch_y)\n",
    "                \n",
    "        loss = criterion(denoising, batch_x)\n",
    "        epoch_loss += loss.item()\n",
    "        loss.backward()\n",
    "        optimizer.step()\n",
    "        \n",
    "        if n_count % 10 == 0:\n",
    "            print('%4d %4d / %4d loss = %2.4f' % (epoch+1, n_count, train_dataset.size(0)//batch_size, loss.item()/batch_size))\n",
    "        \n",
    "        denoising = denoising.cpu()\n",
    "        denoising = denoising.detach().numpy().astype(np.float32)\n",
    "        \n",
    "        batch_x = batch_x.cpu()\n",
    "        batch_x = batch_x.detach().numpy().astype(np.float32)\n",
    "        \n",
    "        psnr_train = compare_psnr(batch_x, denoising, data_range = 2)\n",
    "        #ssim_train = compare_ssim(batch_x, denoising, data_range = 2)\n",
    "                \n",
    "        psnr_epoch.append(psnr_train)\n",
    "        #ssim_epoch.append(ssim_train)\n",
    "        \n",
    "    psnr.append(np.mean(psnr_epoch))\n",
    "    #ssim.append(np.mean(ssim_epoch))\n",
    "    elapsed_time = time.time() - start_time\n",
    "\n",
    "    np.savetxt('train_result.txt', np.hstack((epoch+1, epoch_loss/n_count, elapsed_time)), fmt='%2.4f')\n",
    "    torch.save(model, os.path.join(save_dir, 'model_%03d.pth' % (epoch+1)))\n",
    "    \n",
    "    torch.cuda.empty_cache()\n",
    "    model.eval()\n",
    "    \n",
    "    with torch.no_grad():\n",
    "        for y, x in VLoader:\n",
    "            y = y.to(device)\n",
    "            x = x.to(device)\n",
    "            vloss += criterion(model(y), x)\n",
    "            count+=1\n",
    "    valid_loss.append(vloss/count)\n",
    "    \n",
    "    train_loss.append(epoch_loss/n_count)\n",
    "    \n",
    "    log('epoch = %4d , loss = %4.4f , validation loss = %4.4f , time = %4.2f s' % (epoch+1, epoch_loss/n_count, vloss/count, elapsed_time))\n",
    "    \n",
    "    save_result(psnr, path=os.path.join('Train_results', 'psnr_results.txt'), ext = '.txt')\n",
    "    save_result(valid_loss, path=os.path.join('Train_results', 'valid_loss_results.txt'), ext = '.txt')\n",
    "    save_result(train_loss, path=os.path.join('Train_results', 'train_loss_results.txt'), ext = '.txt')"
   ]
  },
  {
   "cell_type": "markdown",
   "id": "2b4dfcf3",
   "metadata": {},
   "source": [
    "## Plot Train Loss and Validation Loss"
   ]
  },
  {
   "cell_type": "code",
   "execution_count": 25,
   "id": "bcd018da",
   "metadata": {
    "scrolled": false
   },
   "outputs": [
    {
     "data": {
      "text/plain": [
       "<matplotlib.legend.Legend at 0x7f06b642fb50>"
      ]
     },
     "execution_count": 25,
     "metadata": {},
     "output_type": "execute_result"
    },
    {
     "data": {
      "image/png": "[encoded data removed]",
      "text/plain": [
       "<Figure size 1440x720 with 1 Axes>"
      ]
     },
     "metadata": {
      "needs_background": "light"
     },
     "output_type": "display_data"
    }
   ],
   "source": [
    "import matplotlib.pyplot as plt\n",
    "x = np.arange(0, len(valid_loss))\n",
    "plt.figure(figsize = (20, 10))\n",
    "plt.plot(x, valid_loss, x, train_loss)\n",
    "plt.grid()\n",
    "plt.legend(('valid_loss', 'train_loss'))"
   ]
  },
  {
   "cell_type": "markdown",
   "id": "ff13d5e6",
   "metadata": {},
   "source": [
    "## Define Model Test Constants"
   ]
  },
  {
   "cell_type": "code",
   "execution_count": 19,
   "id": "110c99cb",
   "metadata": {},
   "outputs": [],
   "source": [
    "def parse_args():\n",
    "\n",
    "    args = easydict.EasyDict({\n",
    "    \"model_dir\" : os.path.join('models', 'DnCNN_compression'),\n",
    "    \"Noise_set_dir\" : 'Test_set/Test_set(Noise)',\n",
    "    \"Original_set_dir\" : 'Test_set/Test_set(Original)',\n",
    "    \"model_name\" : 'model_048.pth',\n",
    "    \"result_dir\" : 'results',\n",
    "    \"save_result\" : 1\n",
    "    })\n",
    "    return args"
   ]
  },
  {
   "cell_type": "markdown",
   "id": "e3c1f606",
   "metadata": {},
   "source": [
    "## Model Test and Save Test Result"
   ]
  },
  {
   "cell_type": "code",
   "execution_count": 20,
   "id": "6830b851",
   "metadata": {},
   "outputs": [
    {
     "name": "stderr",
     "output_type": "stream",
     "text": [
      "Lossy conversion from float32 to uint8. Range [0, 1]. Convert image to uint8 prior to saving to suppress this warning.\n"
     ]
    },
    {
     "name": "stdout",
     "output_type": "stream",
     "text": [
      "2021-12-16 06:10:25: load trained model\n",
      "1 epoch : 0.1289 second\n"
     ]
    },
    {
     "name": "stderr",
     "output_type": "stream",
     "text": [
      "Lossy conversion from float32 to uint8. Range [0, 1]. Convert image to uint8 prior to saving to suppress this warning.\n"
     ]
    },
    {
     "name": "stdout",
     "output_type": "stream",
     "text": [
      "2 epoch : 0.1226 second\n"
     ]
    },
    {
     "name": "stderr",
     "output_type": "stream",
     "text": [
      "Lossy conversion from float32 to uint8. Range [0, 1]. Convert image to uint8 prior to saving to suppress this warning.\n"
     ]
    },
    {
     "name": "stdout",
     "output_type": "stream",
     "text": [
      "3 epoch : 0.0906 second\n"
     ]
    },
    {
     "name": "stderr",
     "output_type": "stream",
     "text": [
      "Lossy conversion from float32 to uint8. Range [0, 1]. Convert image to uint8 prior to saving to suppress this warning.\n"
     ]
    },
    {
     "name": "stdout",
     "output_type": "stream",
     "text": [
      "4 epoch : 0.0835 second\n",
      "5 epoch : 0.0807 second\n"
     ]
    },
    {
     "name": "stderr",
     "output_type": "stream",
     "text": [
      "Lossy conversion from float32 to uint8. Range [0, 1]. Convert image to uint8 prior to saving to suppress this warning.\n",
      "Lossy conversion from float32 to uint8. Range [0, 1]. Convert image to uint8 prior to saving to suppress this warning.\n"
     ]
    },
    {
     "name": "stdout",
     "output_type": "stream",
     "text": [
      "6 epoch : 0.0784 second\n"
     ]
    },
    {
     "name": "stderr",
     "output_type": "stream",
     "text": [
      "Lossy conversion from float32 to uint8. Range [0, 1]. Convert image to uint8 prior to saving to suppress this warning.\n"
     ]
    },
    {
     "name": "stdout",
     "output_type": "stream",
     "text": [
      "7 epoch : 0.0787 second\n"
     ]
    },
    {
     "name": "stderr",
     "output_type": "stream",
     "text": [
      "Lossy conversion from float32 to uint8. Range [0, 1]. Convert image to uint8 prior to saving to suppress this warning.\n"
     ]
    },
    {
     "name": "stdout",
     "output_type": "stream",
     "text": [
      "8 epoch : 0.0786 second\n"
     ]
    },
    {
     "name": "stderr",
     "output_type": "stream",
     "text": [
      "Lossy conversion from float32 to uint8. Range [0, 1]. Convert image to uint8 prior to saving to suppress this warning.\n"
     ]
    },
    {
     "name": "stdout",
     "output_type": "stream",
     "text": [
      "9 epoch : 0.0784 second\n"
     ]
    },
    {
     "name": "stderr",
     "output_type": "stream",
     "text": [
      "Lossy conversion from float32 to uint8. Range [0, 1]. Convert image to uint8 prior to saving to suppress this warning.\n"
     ]
    },
    {
     "name": "stdout",
     "output_type": "stream",
     "text": [
      "10 epoch : 0.0883 second\n"
     ]
    },
    {
     "name": "stderr",
     "output_type": "stream",
     "text": [
      "Lossy conversion from float32 to uint8. Range [0, 1]. Convert image to uint8 prior to saving to suppress this warning.\n"
     ]
    },
    {
     "name": "stdout",
     "output_type": "stream",
     "text": [
      "11 epoch : 0.0876 second\n"
     ]
    },
    {
     "name": "stderr",
     "output_type": "stream",
     "text": [
      "Lossy conversion from float32 to uint8. Range [0, 1]. Convert image to uint8 prior to saving to suppress this warning.\n"
     ]
    },
    {
     "name": "stdout",
     "output_type": "stream",
     "text": [
      "12 epoch : 0.0877 second\n"
     ]
    },
    {
     "name": "stderr",
     "output_type": "stream",
     "text": [
      "Lossy conversion from float32 to uint8. Range [0, 1]. Convert image to uint8 prior to saving to suppress this warning.\n"
     ]
    },
    {
     "name": "stdout",
     "output_type": "stream",
     "text": [
      "13 epoch : 0.0827 second\n"
     ]
    },
    {
     "name": "stderr",
     "output_type": "stream",
     "text": [
      "Lossy conversion from float32 to uint8. Range [0, 1]. Convert image to uint8 prior to saving to suppress this warning.\n"
     ]
    },
    {
     "name": "stdout",
     "output_type": "stream",
     "text": [
      "14 epoch : 0.0811 second\n"
     ]
    },
    {
     "name": "stderr",
     "output_type": "stream",
     "text": [
      "Lossy conversion from float32 to uint8. Range [0, 1]. Convert image to uint8 prior to saving to suppress this warning.\n"
     ]
    },
    {
     "name": "stdout",
     "output_type": "stream",
     "text": [
      "15 epoch : 0.0812 second\n"
     ]
    },
    {
     "name": "stderr",
     "output_type": "stream",
     "text": [
      "Lossy conversion from float32 to uint8. Range [0, 1]. Convert image to uint8 prior to saving to suppress this warning.\n"
     ]
    },
    {
     "name": "stdout",
     "output_type": "stream",
     "text": [
      "16 epoch : 0.0813 second\n"
     ]
    },
    {
     "name": "stderr",
     "output_type": "stream",
     "text": [
      "Lossy conversion from float32 to uint8. Range [0, 1]. Convert image to uint8 prior to saving to suppress this warning.\n"
     ]
    },
    {
     "name": "stdout",
     "output_type": "stream",
     "text": [
      "17 epoch : 0.1088 second\n",
      "18 epoch : 0.0883 second\n"
     ]
    },
    {
     "name": "stderr",
     "output_type": "stream",
     "text": [
      "Lossy conversion from float32 to uint8. Range [0, 1]. Convert image to uint8 prior to saving to suppress this warning.\n",
      "Lossy conversion from float32 to uint8. Range [0, 1]. Convert image to uint8 prior to saving to suppress this warning.\n"
     ]
    },
    {
     "name": "stdout",
     "output_type": "stream",
     "text": [
      "19 epoch : 0.0827 second\n"
     ]
    },
    {
     "name": "stderr",
     "output_type": "stream",
     "text": [
      "Lossy conversion from float32 to uint8. Range [0, 1]. Convert image to uint8 prior to saving to suppress this warning.\n"
     ]
    },
    {
     "name": "stdout",
     "output_type": "stream",
     "text": [
      "20 epoch : 0.0827 second\n"
     ]
    },
    {
     "name": "stderr",
     "output_type": "stream",
     "text": [
      "Lossy conversion from float32 to uint8. Range [0, 1]. Convert image to uint8 prior to saving to suppress this warning.\n"
     ]
    },
    {
     "name": "stdout",
     "output_type": "stream",
     "text": [
      "21 epoch : 0.0812 second\n"
     ]
    },
    {
     "name": "stderr",
     "output_type": "stream",
     "text": [
      "Lossy conversion from float32 to uint8. Range [0, 1]. Convert image to uint8 prior to saving to suppress this warning.\n"
     ]
    },
    {
     "name": "stdout",
     "output_type": "stream",
     "text": [
      "22 epoch : 0.0816 second\n"
     ]
    },
    {
     "name": "stderr",
     "output_type": "stream",
     "text": [
      "Lossy conversion from float32 to uint8. Range [0, 1]. Convert image to uint8 prior to saving to suppress this warning.\n"
     ]
    },
    {
     "name": "stdout",
     "output_type": "stream",
     "text": [
      "23 epoch : 0.0811 second\n"
     ]
    },
    {
     "name": "stderr",
     "output_type": "stream",
     "text": [
      "Lossy conversion from float32 to uint8. Range [0, 1]. Convert image to uint8 prior to saving to suppress this warning.\n"
     ]
    },
    {
     "name": "stdout",
     "output_type": "stream",
     "text": [
      "24 epoch : 0.0855 second\n"
     ]
    },
    {
     "name": "stderr",
     "output_type": "stream",
     "text": [
      "Lossy conversion from float32 to uint8. Range [0, 1]. Convert image to uint8 prior to saving to suppress this warning.\n"
     ]
    },
    {
     "name": "stdout",
     "output_type": "stream",
     "text": [
      "25 epoch : 0.1033 second\n"
     ]
    },
    {
     "name": "stderr",
     "output_type": "stream",
     "text": [
      "Lossy conversion from float32 to uint8. Range [0, 1]. Convert image to uint8 prior to saving to suppress this warning.\n"
     ]
    },
    {
     "name": "stdout",
     "output_type": "stream",
     "text": [
      "26 epoch : 0.0906 second\n"
     ]
    },
    {
     "name": "stderr",
     "output_type": "stream",
     "text": [
      "Lossy conversion from float32 to uint8. Range [0, 1]. Convert image to uint8 prior to saving to suppress this warning.\n"
     ]
    },
    {
     "name": "stdout",
     "output_type": "stream",
     "text": [
      "27 epoch : 0.0835 second\n"
     ]
    },
    {
     "name": "stderr",
     "output_type": "stream",
     "text": [
      "Lossy conversion from float32 to uint8. Range [0, 1]. Convert image to uint8 prior to saving to suppress this warning.\n"
     ]
    },
    {
     "name": "stdout",
     "output_type": "stream",
     "text": [
      "28 epoch : 0.0834 second\n"
     ]
    },
    {
     "name": "stderr",
     "output_type": "stream",
     "text": [
      "Lossy conversion from float32 to uint8. Range [0, 1]. Convert image to uint8 prior to saving to suppress this warning.\n"
     ]
    },
    {
     "name": "stdout",
     "output_type": "stream",
     "text": [
      "29 epoch : 0.0835 second\n"
     ]
    },
    {
     "name": "stderr",
     "output_type": "stream",
     "text": [
      "Lossy conversion from float32 to uint8. Range [0, 1]. Convert image to uint8 prior to saving to suppress this warning.\n"
     ]
    },
    {
     "name": "stdout",
     "output_type": "stream",
     "text": [
      "30 epoch : 0.0811 second\n"
     ]
    },
    {
     "name": "stderr",
     "output_type": "stream",
     "text": [
      "Lossy conversion from float32 to uint8. Range [0, 1]. Convert image to uint8 prior to saving to suppress this warning.\n"
     ]
    },
    {
     "name": "stdout",
     "output_type": "stream",
     "text": [
      "31 epoch : 0.0811 second\n"
     ]
    },
    {
     "name": "stderr",
     "output_type": "stream",
     "text": [
      "Lossy conversion from float32 to uint8. Range [0, 1]. Convert image to uint8 prior to saving to suppress this warning.\n"
     ]
    },
    {
     "name": "stdout",
     "output_type": "stream",
     "text": [
      "32 epoch : 0.0815 second\n",
      "33 epoch : 0.0817 second\n"
     ]
    },
    {
     "name": "stderr",
     "output_type": "stream",
     "text": [
      "Lossy conversion from float32 to uint8. Range [0, 1]. Convert image to uint8 prior to saving to suppress this warning.\n",
      "Lossy conversion from float32 to uint8. Range [0, 1]. Convert image to uint8 prior to saving to suppress this warning.\n"
     ]
    },
    {
     "name": "stdout",
     "output_type": "stream",
     "text": [
      "34 epoch : 0.0760 second\n"
     ]
    },
    {
     "name": "stderr",
     "output_type": "stream",
     "text": [
      "Lossy conversion from float32 to uint8. Range [0, 1]. Convert image to uint8 prior to saving to suppress this warning.\n"
     ]
    },
    {
     "name": "stdout",
     "output_type": "stream",
     "text": [
      "35 epoch : 0.0754 second\n"
     ]
    },
    {
     "name": "stderr",
     "output_type": "stream",
     "text": [
      "Lossy conversion from float32 to uint8. Range [0, 1]. Convert image to uint8 prior to saving to suppress this warning.\n"
     ]
    },
    {
     "name": "stdout",
     "output_type": "stream",
     "text": [
      "36 epoch : 0.0757 second\n"
     ]
    },
    {
     "name": "stderr",
     "output_type": "stream",
     "text": [
      "Lossy conversion from float32 to uint8. Range [0, 1]. Convert image to uint8 prior to saving to suppress this warning.\n"
     ]
    },
    {
     "name": "stdout",
     "output_type": "stream",
     "text": [
      "37 epoch : 0.0758 second\n"
     ]
    },
    {
     "name": "stderr",
     "output_type": "stream",
     "text": [
      "Lossy conversion from float32 to uint8. Range [0, 1]. Convert image to uint8 prior to saving to suppress this warning.\n"
     ]
    },
    {
     "name": "stdout",
     "output_type": "stream",
     "text": [
      "38 epoch : 0.0861 second\n"
     ]
    },
    {
     "name": "stderr",
     "output_type": "stream",
     "text": [
      "Lossy conversion from float32 to uint8. Range [0, 1]. Convert image to uint8 prior to saving to suppress this warning.\n"
     ]
    },
    {
     "name": "stdout",
     "output_type": "stream",
     "text": [
      "39 epoch : 0.0819 second\n"
     ]
    },
    {
     "name": "stderr",
     "output_type": "stream",
     "text": [
      "Lossy conversion from float32 to uint8. Range [0, 1]. Convert image to uint8 prior to saving to suppress this warning.\n"
     ]
    },
    {
     "name": "stdout",
     "output_type": "stream",
     "text": [
      "40 epoch : 0.0804 second\n"
     ]
    },
    {
     "name": "stderr",
     "output_type": "stream",
     "text": [
      "Lossy conversion from float32 to uint8. Range [0, 1]. Convert image to uint8 prior to saving to suppress this warning.\n"
     ]
    },
    {
     "name": "stdout",
     "output_type": "stream",
     "text": [
      "41 epoch : 0.0812 second\n"
     ]
    },
    {
     "name": "stderr",
     "output_type": "stream",
     "text": [
      "Lossy conversion from float32 to uint8. Range [0, 1]. Convert image to uint8 prior to saving to suppress this warning.\n"
     ]
    },
    {
     "name": "stdout",
     "output_type": "stream",
     "text": [
      "42 epoch : 0.0806 second\n"
     ]
    },
    {
     "name": "stderr",
     "output_type": "stream",
     "text": [
      "Lossy conversion from float32 to uint8. Range [0, 1]. Convert image to uint8 prior to saving to suppress this warning.\n"
     ]
    },
    {
     "name": "stdout",
     "output_type": "stream",
     "text": [
      "43 epoch : 0.0855 second\n"
     ]
    },
    {
     "name": "stderr",
     "output_type": "stream",
     "text": [
      "Lossy conversion from float32 to uint8. Range [0, 1]. Convert image to uint8 prior to saving to suppress this warning.\n"
     ]
    },
    {
     "name": "stdout",
     "output_type": "stream",
     "text": [
      "44 epoch : 0.0905 second\n"
     ]
    },
    {
     "name": "stderr",
     "output_type": "stream",
     "text": [
      "Lossy conversion from float32 to uint8. Range [0, 1]. Convert image to uint8 prior to saving to suppress this warning.\n"
     ]
    },
    {
     "name": "stdout",
     "output_type": "stream",
     "text": [
      "45 epoch : 0.0835 second\n"
     ]
    },
    {
     "name": "stderr",
     "output_type": "stream",
     "text": [
      "Lossy conversion from float32 to uint8. Range [0, 1]. Convert image to uint8 prior to saving to suppress this warning.\n"
     ]
    },
    {
     "name": "stdout",
     "output_type": "stream",
     "text": [
      "46 epoch : 0.0813 second\n"
     ]
    },
    {
     "name": "stderr",
     "output_type": "stream",
     "text": [
      "Lossy conversion from float32 to uint8. Range [0, 1]. Convert image to uint8 prior to saving to suppress this warning.\n"
     ]
    },
    {
     "name": "stdout",
     "output_type": "stream",
     "text": [
      "47 epoch : 0.0812 second\n"
     ]
    },
    {
     "name": "stderr",
     "output_type": "stream",
     "text": [
      "Lossy conversion from float32 to uint8. Range [0, 1]. Convert image to uint8 prior to saving to suppress this warning.\n"
     ]
    },
    {
     "name": "stdout",
     "output_type": "stream",
     "text": [
      "48 epoch : 0.0814 second\n"
     ]
    },
    {
     "name": "stderr",
     "output_type": "stream",
     "text": [
      "Lossy conversion from float32 to uint8. Range [0, 1]. Convert image to uint8 prior to saving to suppress this warning.\n"
     ]
    },
    {
     "name": "stdout",
     "output_type": "stream",
     "text": [
      "49 epoch : 0.0812 second\n"
     ]
    },
    {
     "name": "stderr",
     "output_type": "stream",
     "text": [
      "Lossy conversion from float32 to uint8. Range [0, 1]. Convert image to uint8 prior to saving to suppress this warning.\n"
     ]
    },
    {
     "name": "stdout",
     "output_type": "stream",
     "text": [
      "50 epoch : 0.1052 second\n"
     ]
    },
    {
     "name": "stderr",
     "output_type": "stream",
     "text": [
      "Lossy conversion from float32 to uint8. Range [0, 1]. Convert image to uint8 prior to saving to suppress this warning.\n"
     ]
    },
    {
     "name": "stdout",
     "output_type": "stream",
     "text": [
      "51 epoch : 0.0868 second\n"
     ]
    },
    {
     "name": "stderr",
     "output_type": "stream",
     "text": [
      "Lossy conversion from float32 to uint8. Range [0, 1]. Convert image to uint8 prior to saving to suppress this warning.\n",
      "Lossy conversion from float32 to uint8. Range [0, 1]. Convert image to uint8 prior to saving to suppress this warning.\n"
     ]
    },
    {
     "name": "stdout",
     "output_type": "stream",
     "text": [
      "52 epoch : 0.0818 second\n",
      "53 epoch : 0.0815 second\n"
     ]
    },
    {
     "name": "stderr",
     "output_type": "stream",
     "text": [
      "Lossy conversion from float32 to uint8. Range [0, 1]. Convert image to uint8 prior to saving to suppress this warning.\n"
     ]
    },
    {
     "name": "stdout",
     "output_type": "stream",
     "text": [
      "54 epoch : 0.0809 second\n"
     ]
    },
    {
     "name": "stderr",
     "output_type": "stream",
     "text": [
      "Lossy conversion from float32 to uint8. Range [0, 1]. Convert image to uint8 prior to saving to suppress this warning.\n"
     ]
    },
    {
     "name": "stdout",
     "output_type": "stream",
     "text": [
      "55 epoch : 0.0804 second\n"
     ]
    },
    {
     "name": "stderr",
     "output_type": "stream",
     "text": [
      "Lossy conversion from float32 to uint8. Range [0, 1]. Convert image to uint8 prior to saving to suppress this warning.\n"
     ]
    },
    {
     "name": "stdout",
     "output_type": "stream",
     "text": [
      "56 epoch : 0.0805 second\n"
     ]
    },
    {
     "name": "stderr",
     "output_type": "stream",
     "text": [
      "Lossy conversion from float32 to uint8. Range [0, 1]. Convert image to uint8 prior to saving to suppress this warning.\n"
     ]
    },
    {
     "name": "stdout",
     "output_type": "stream",
     "text": [
      "57 epoch : 0.0923 second\n"
     ]
    },
    {
     "name": "stderr",
     "output_type": "stream",
     "text": [
      "Lossy conversion from float32 to uint8. Range [0, 1]. Convert image to uint8 prior to saving to suppress this warning.\n"
     ]
    },
    {
     "name": "stdout",
     "output_type": "stream",
     "text": [
      "58 epoch : 0.0970 second\n"
     ]
    },
    {
     "name": "stderr",
     "output_type": "stream",
     "text": [
      "Lossy conversion from float32 to uint8. Range [0, 1]. Convert image to uint8 prior to saving to suppress this warning.\n"
     ]
    },
    {
     "name": "stdout",
     "output_type": "stream",
     "text": [
      "59 epoch : 0.0851 second\n"
     ]
    },
    {
     "name": "stderr",
     "output_type": "stream",
     "text": [
      "Lossy conversion from float32 to uint8. Range [0, 1]. Convert image to uint8 prior to saving to suppress this warning.\n"
     ]
    },
    {
     "name": "stdout",
     "output_type": "stream",
     "text": [
      "60 epoch : 0.0850 second\n"
     ]
    },
    {
     "name": "stderr",
     "output_type": "stream",
     "text": [
      "Lossy conversion from float32 to uint8. Range [0, 1]. Convert image to uint8 prior to saving to suppress this warning.\n",
      "Lossy conversion from float32 to uint8. Range [0, 1]. Convert image to uint8 prior to saving to suppress this warning.\n"
     ]
    },
    {
     "name": "stdout",
     "output_type": "stream",
     "text": [
      "61 epoch : 0.0818 second\n",
      "62 epoch : 0.0798 second\n"
     ]
    },
    {
     "name": "stderr",
     "output_type": "stream",
     "text": [
      "Lossy conversion from float32 to uint8. Range [0, 1]. Convert image to uint8 prior to saving to suppress this warning.\n"
     ]
    },
    {
     "name": "stdout",
     "output_type": "stream",
     "text": [
      "63 epoch : 0.0800 second\n",
      "64 epoch : 0.0779 second\n"
     ]
    },
    {
     "name": "stderr",
     "output_type": "stream",
     "text": [
      "Lossy conversion from float32 to uint8. Range [0, 1]. Convert image to uint8 prior to saving to suppress this warning.\n",
      "Lossy conversion from float32 to uint8. Range [0, 1]. Convert image to uint8 prior to saving to suppress this warning.\n"
     ]
    },
    {
     "name": "stdout",
     "output_type": "stream",
     "text": [
      "65 epoch : 0.0747 second\n"
     ]
    },
    {
     "name": "stderr",
     "output_type": "stream",
     "text": [
      "Lossy conversion from float32 to uint8. Range [0, 1]. Convert image to uint8 prior to saving to suppress this warning.\n"
     ]
    },
    {
     "name": "stdout",
     "output_type": "stream",
     "text": [
      "66 epoch : 0.0755 second\n",
      "67 epoch : 0.0745 second\n"
     ]
    },
    {
     "name": "stderr",
     "output_type": "stream",
     "text": [
      "Lossy conversion from float32 to uint8. Range [0, 1]. Convert image to uint8 prior to saving to suppress this warning.\n",
      "Lossy conversion from float32 to uint8. Range [0, 1]. Convert image to uint8 prior to saving to suppress this warning.\n"
     ]
    },
    {
     "name": "stdout",
     "output_type": "stream",
     "text": [
      "68 epoch : 0.0744 second\n"
     ]
    },
    {
     "name": "stderr",
     "output_type": "stream",
     "text": [
      "Lossy conversion from float32 to uint8. Range [0, 1]. Convert image to uint8 prior to saving to suppress this warning.\n"
     ]
    },
    {
     "name": "stdout",
     "output_type": "stream",
     "text": [
      "69 epoch : 0.0745 second\n"
     ]
    },
    {
     "name": "stderr",
     "output_type": "stream",
     "text": [
      "Lossy conversion from float32 to uint8. Range [0, 1]. Convert image to uint8 prior to saving to suppress this warning.\n"
     ]
    },
    {
     "name": "stdout",
     "output_type": "stream",
     "text": [
      "70 epoch : 0.0846 second\n"
     ]
    },
    {
     "name": "stderr",
     "output_type": "stream",
     "text": [
      "Lossy conversion from float32 to uint8. Range [0, 1]. Convert image to uint8 prior to saving to suppress this warning.\n"
     ]
    },
    {
     "name": "stdout",
     "output_type": "stream",
     "text": [
      "71 epoch : 0.0948 second\n"
     ]
    },
    {
     "name": "stderr",
     "output_type": "stream",
     "text": [
      "Lossy conversion from float32 to uint8. Range [0, 1]. Convert image to uint8 prior to saving to suppress this warning.\n"
     ]
    },
    {
     "name": "stdout",
     "output_type": "stream",
     "text": [
      "72 epoch : 0.0842 second\n"
     ]
    },
    {
     "name": "stderr",
     "output_type": "stream",
     "text": [
      "Lossy conversion from float32 to uint8. Range [0, 1]. Convert image to uint8 prior to saving to suppress this warning.\n"
     ]
    },
    {
     "name": "stdout",
     "output_type": "stream",
     "text": [
      "73 epoch : 0.0820 second\n"
     ]
    },
    {
     "name": "stderr",
     "output_type": "stream",
     "text": [
      "Lossy conversion from float32 to uint8. Range [0, 1]. Convert image to uint8 prior to saving to suppress this warning.\n"
     ]
    },
    {
     "name": "stdout",
     "output_type": "stream",
     "text": [
      "74 epoch : 0.0805 second\n"
     ]
    },
    {
     "name": "stderr",
     "output_type": "stream",
     "text": [
      "Lossy conversion from float32 to uint8. Range [0, 1]. Convert image to uint8 prior to saving to suppress this warning.\n"
     ]
    },
    {
     "name": "stdout",
     "output_type": "stream",
     "text": [
      "75 epoch : 0.0812 second\n"
     ]
    },
    {
     "name": "stderr",
     "output_type": "stream",
     "text": [
      "Lossy conversion from float32 to uint8. Range [0, 1]. Convert image to uint8 prior to saving to suppress this warning.\n"
     ]
    },
    {
     "name": "stdout",
     "output_type": "stream",
     "text": [
      "76 epoch : 0.0804 second\n"
     ]
    },
    {
     "name": "stderr",
     "output_type": "stream",
     "text": [
      "Lossy conversion from float32 to uint8. Range [0, 1]. Convert image to uint8 prior to saving to suppress this warning.\n"
     ]
    },
    {
     "name": "stdout",
     "output_type": "stream",
     "text": [
      "77 epoch : 0.0810 second\n"
     ]
    },
    {
     "name": "stderr",
     "output_type": "stream",
     "text": [
      "Lossy conversion from float32 to uint8. Range [0, 1]. Convert image to uint8 prior to saving to suppress this warning.\n"
     ]
    },
    {
     "name": "stdout",
     "output_type": "stream",
     "text": [
      "78 epoch : 0.0861 second\n"
     ]
    },
    {
     "name": "stderr",
     "output_type": "stream",
     "text": [
      "Lossy conversion from float32 to uint8. Range [0, 1]. Convert image to uint8 prior to saving to suppress this warning.\n"
     ]
    },
    {
     "name": "stdout",
     "output_type": "stream",
     "text": [
      "79 epoch : 0.0819 second\n"
     ]
    },
    {
     "name": "stderr",
     "output_type": "stream",
     "text": [
      "Lossy conversion from float32 to uint8. Range [0, 1]. Convert image to uint8 prior to saving to suppress this warning.\n"
     ]
    },
    {
     "name": "stdout",
     "output_type": "stream",
     "text": [
      "80 epoch : 0.0820 second\n"
     ]
    },
    {
     "name": "stderr",
     "output_type": "stream",
     "text": [
      "Lossy conversion from float32 to uint8. Range [0, 1]. Convert image to uint8 prior to saving to suppress this warning.\n"
     ]
    },
    {
     "name": "stdout",
     "output_type": "stream",
     "text": [
      "81 epoch : 0.0807 second\n"
     ]
    },
    {
     "name": "stderr",
     "output_type": "stream",
     "text": [
      "Lossy conversion from float32 to uint8. Range [0, 1]. Convert image to uint8 prior to saving to suppress this warning.\n"
     ]
    },
    {
     "name": "stdout",
     "output_type": "stream",
     "text": [
      "82 epoch : 0.0812 second\n"
     ]
    },
    {
     "name": "stderr",
     "output_type": "stream",
     "text": [
      "Lossy conversion from float32 to uint8. Range [0, 1]. Convert image to uint8 prior to saving to suppress this warning.\n"
     ]
    },
    {
     "name": "stdout",
     "output_type": "stream",
     "text": [
      "83 epoch : 0.0812 second\n"
     ]
    },
    {
     "name": "stderr",
     "output_type": "stream",
     "text": [
      "Lossy conversion from float32 to uint8. Range [0, 1]. Convert image to uint8 prior to saving to suppress this warning.\n"
     ]
    },
    {
     "name": "stdout",
     "output_type": "stream",
     "text": [
      "84 epoch : 0.0807 second\n"
     ]
    },
    {
     "name": "stderr",
     "output_type": "stream",
     "text": [
      "Lossy conversion from float32 to uint8. Range [0, 1]. Convert image to uint8 prior to saving to suppress this warning.\n"
     ]
    },
    {
     "name": "stdout",
     "output_type": "stream",
     "text": [
      "85 epoch : 0.0805 second\n"
     ]
    },
    {
     "name": "stderr",
     "output_type": "stream",
     "text": [
      "Lossy conversion from float32 to uint8. Range [0, 1]. Convert image to uint8 prior to saving to suppress this warning.\n"
     ]
    },
    {
     "name": "stdout",
     "output_type": "stream",
     "text": [
      "86 epoch : 0.0850 second\n"
     ]
    },
    {
     "name": "stderr",
     "output_type": "stream",
     "text": [
      "Lossy conversion from float32 to uint8. Range [0, 1]. Convert image to uint8 prior to saving to suppress this warning.\n"
     ]
    },
    {
     "name": "stdout",
     "output_type": "stream",
     "text": [
      "87 epoch : 0.0825 second\n"
     ]
    },
    {
     "name": "stderr",
     "output_type": "stream",
     "text": [
      "Lossy conversion from float32 to uint8. Range [0, 1]. Convert image to uint8 prior to saving to suppress this warning.\n"
     ]
    },
    {
     "name": "stdout",
     "output_type": "stream",
     "text": [
      "88 epoch : 0.0815 second\n",
      "89 epoch : 0.0795 second\n"
     ]
    },
    {
     "name": "stderr",
     "output_type": "stream",
     "text": [
      "Lossy conversion from float32 to uint8. Range [0, 1]. Convert image to uint8 prior to saving to suppress this warning.\n",
      "Lossy conversion from float32 to uint8. Range [0, 1]. Convert image to uint8 prior to saving to suppress this warning.\n"
     ]
    },
    {
     "name": "stdout",
     "output_type": "stream",
     "text": [
      "90 epoch : 0.0772 second\n"
     ]
    },
    {
     "name": "stderr",
     "output_type": "stream",
     "text": [
      "Lossy conversion from float32 to uint8. Range [0, 1]. Convert image to uint8 prior to saving to suppress this warning.\n"
     ]
    },
    {
     "name": "stdout",
     "output_type": "stream",
     "text": [
      "91 epoch : 0.0769 second\n"
     ]
    },
    {
     "name": "stderr",
     "output_type": "stream",
     "text": [
      "Lossy conversion from float32 to uint8. Range [0, 1]. Convert image to uint8 prior to saving to suppress this warning.\n"
     ]
    },
    {
     "name": "stdout",
     "output_type": "stream",
     "text": [
      "92 epoch : 0.0775 second\n"
     ]
    },
    {
     "name": "stderr",
     "output_type": "stream",
     "text": [
      "Lossy conversion from float32 to uint8. Range [0, 1]. Convert image to uint8 prior to saving to suppress this warning.\n"
     ]
    },
    {
     "name": "stdout",
     "output_type": "stream",
     "text": [
      "93 epoch : 0.0786 second\n"
     ]
    },
    {
     "name": "stderr",
     "output_type": "stream",
     "text": [
      "Lossy conversion from float32 to uint8. Range [0, 1]. Convert image to uint8 prior to saving to suppress this warning.\n"
     ]
    },
    {
     "name": "stdout",
     "output_type": "stream",
     "text": [
      "94 epoch : 0.0938 second\n"
     ]
    },
    {
     "name": "stderr",
     "output_type": "stream",
     "text": [
      "Lossy conversion from float32 to uint8. Range [0, 1]. Convert image to uint8 prior to saving to suppress this warning.\n"
     ]
    },
    {
     "name": "stdout",
     "output_type": "stream",
     "text": [
      "95 epoch : 0.0843 second\n"
     ]
    },
    {
     "name": "stderr",
     "output_type": "stream",
     "text": [
      "Lossy conversion from float32 to uint8. Range [0, 1]. Convert image to uint8 prior to saving to suppress this warning.\n"
     ]
    },
    {
     "name": "stdout",
     "output_type": "stream",
     "text": [
      "96 epoch : 0.0843 second\n"
     ]
    },
    {
     "name": "stderr",
     "output_type": "stream",
     "text": [
      "Lossy conversion from float32 to uint8. Range [0, 1]. Convert image to uint8 prior to saving to suppress this warning.\n"
     ]
    },
    {
     "name": "stdout",
     "output_type": "stream",
     "text": [
      "97 epoch : 0.0843 second\n"
     ]
    },
    {
     "name": "stderr",
     "output_type": "stream",
     "text": [
      "Lossy conversion from float32 to uint8. Range [0, 1]. Convert image to uint8 prior to saving to suppress this warning.\n"
     ]
    },
    {
     "name": "stdout",
     "output_type": "stream",
     "text": [
      "98 epoch : 0.0820 second\n"
     ]
    },
    {
     "name": "stderr",
     "output_type": "stream",
     "text": [
      "Lossy conversion from float32 to uint8. Range [0, 1]. Convert image to uint8 prior to saving to suppress this warning.\n"
     ]
    },
    {
     "name": "stdout",
     "output_type": "stream",
     "text": [
      "99 epoch : 0.0819 second\n"
     ]
    },
    {
     "name": "stderr",
     "output_type": "stream",
     "text": [
      "Lossy conversion from float32 to uint8. Range [0, 1]. Convert image to uint8 prior to saving to suppress this warning.\n"
     ]
    },
    {
     "name": "stdout",
     "output_type": "stream",
     "text": [
      "100 epoch : 0.0819 second\n"
     ]
    },
    {
     "name": "stderr",
     "output_type": "stream",
     "text": [
      "Lossy conversion from float32 to uint8. Range [0, 1]. Convert image to uint8 prior to saving to suppress this warning.\n",
      "Lossy conversion from float32 to uint8. Range [0, 1]. Convert image to uint8 prior to saving to suppress this warning.\n"
     ]
    },
    {
     "name": "stdout",
     "output_type": "stream",
     "text": [
      "101 epoch : 0.0815 second\n",
      "102 epoch : 0.0819 second\n"
     ]
    },
    {
     "name": "stderr",
     "output_type": "stream",
     "text": [
      "Lossy conversion from float32 to uint8. Range [0, 1]. Convert image to uint8 prior to saving to suppress this warning.\n"
     ]
    },
    {
     "name": "stdout",
     "output_type": "stream",
     "text": [
      "103 epoch : 0.0736 second\n"
     ]
    },
    {
     "name": "stderr",
     "output_type": "stream",
     "text": [
      "Lossy conversion from float32 to uint8. Range [0, 1]. Convert image to uint8 prior to saving to suppress this warning.\n"
     ]
    },
    {
     "name": "stdout",
     "output_type": "stream",
     "text": [
      "104 epoch : 0.0735 second\n"
     ]
    },
    {
     "name": "stderr",
     "output_type": "stream",
     "text": [
      "Lossy conversion from float32 to uint8. Range [0, 1]. Convert image to uint8 prior to saving to suppress this warning.\n"
     ]
    },
    {
     "name": "stdout",
     "output_type": "stream",
     "text": [
      "105 epoch : 0.0734 second\n"
     ]
    },
    {
     "name": "stderr",
     "output_type": "stream",
     "text": [
      "Lossy conversion from float32 to uint8. Range [0, 1]. Convert image to uint8 prior to saving to suppress this warning.\n"
     ]
    },
    {
     "name": "stdout",
     "output_type": "stream",
     "text": [
      "106 epoch : 0.0736 second\n"
     ]
    },
    {
     "name": "stderr",
     "output_type": "stream",
     "text": [
      "Lossy conversion from float32 to uint8. Range [0, 1]. Convert image to uint8 prior to saving to suppress this warning.\n"
     ]
    },
    {
     "name": "stdout",
     "output_type": "stream",
     "text": [
      "107 epoch : 0.0791 second\n"
     ]
    },
    {
     "name": "stderr",
     "output_type": "stream",
     "text": [
      "Lossy conversion from float32 to uint8. Range [0, 1]. Convert image to uint8 prior to saving to suppress this warning.\n"
     ]
    },
    {
     "name": "stdout",
     "output_type": "stream",
     "text": [
      "108 epoch : 0.0814 second\n"
     ]
    },
    {
     "name": "stderr",
     "output_type": "stream",
     "text": [
      "Lossy conversion from float32 to uint8. Range [0, 1]. Convert image to uint8 prior to saving to suppress this warning.\n"
     ]
    },
    {
     "name": "stdout",
     "output_type": "stream",
     "text": [
      "109 epoch : 0.0853 second\n"
     ]
    },
    {
     "name": "stderr",
     "output_type": "stream",
     "text": [
      "Lossy conversion from float32 to uint8. Range [0, 1]. Convert image to uint8 prior to saving to suppress this warning.\n"
     ]
    },
    {
     "name": "stdout",
     "output_type": "stream",
     "text": [
      "110 epoch : 0.0815 second\n"
     ]
    },
    {
     "name": "stderr",
     "output_type": "stream",
     "text": [
      "Lossy conversion from float32 to uint8. Range [0, 1]. Convert image to uint8 prior to saving to suppress this warning.\n"
     ]
    },
    {
     "name": "stdout",
     "output_type": "stream",
     "text": [
      "111 epoch : 0.0812 second\n"
     ]
    },
    {
     "name": "stderr",
     "output_type": "stream",
     "text": [
      "Lossy conversion from float32 to uint8. Range [0, 1]. Convert image to uint8 prior to saving to suppress this warning.\n"
     ]
    },
    {
     "name": "stdout",
     "output_type": "stream",
     "text": [
      "112 epoch : 0.0816 second\n"
     ]
    },
    {
     "name": "stderr",
     "output_type": "stream",
     "text": [
      "Lossy conversion from float32 to uint8. Range [0, 1]. Convert image to uint8 prior to saving to suppress this warning.\n"
     ]
    },
    {
     "name": "stdout",
     "output_type": "stream",
     "text": [
      "113 epoch : 0.0811 second\n"
     ]
    },
    {
     "name": "stderr",
     "output_type": "stream",
     "text": [
      "Lossy conversion from float32 to uint8. Range [0, 1]. Convert image to uint8 prior to saving to suppress this warning.\n"
     ]
    },
    {
     "name": "stdout",
     "output_type": "stream",
     "text": [
      "114 epoch : 0.0814 second\n"
     ]
    },
    {
     "name": "stderr",
     "output_type": "stream",
     "text": [
      "Lossy conversion from float32 to uint8. Range [0, 1]. Convert image to uint8 prior to saving to suppress this warning.\n"
     ]
    },
    {
     "name": "stdout",
     "output_type": "stream",
     "text": [
      "115 epoch : 0.0867 second\n"
     ]
    },
    {
     "name": "stderr",
     "output_type": "stream",
     "text": [
      "Lossy conversion from float32 to uint8. Range [0, 1]. Convert image to uint8 prior to saving to suppress this warning.\n"
     ]
    },
    {
     "name": "stdout",
     "output_type": "stream",
     "text": [
      "116 epoch : 0.0819 second\n"
     ]
    },
    {
     "name": "stderr",
     "output_type": "stream",
     "text": [
      "Lossy conversion from float32 to uint8. Range [0, 1]. Convert image to uint8 prior to saving to suppress this warning.\n"
     ]
    },
    {
     "name": "stdout",
     "output_type": "stream",
     "text": [
      "117 epoch : 0.0821 second\n",
      "118 epoch : 0.0818 second\n"
     ]
    },
    {
     "name": "stderr",
     "output_type": "stream",
     "text": [
      "Lossy conversion from float32 to uint8. Range [0, 1]. Convert image to uint8 prior to saving to suppress this warning.\n",
      "Lossy conversion from float32 to uint8. Range [0, 1]. Convert image to uint8 prior to saving to suppress this warning.\n"
     ]
    },
    {
     "name": "stdout",
     "output_type": "stream",
     "text": [
      "119 epoch : 0.0813 second\n"
     ]
    },
    {
     "name": "stderr",
     "output_type": "stream",
     "text": [
      "Lossy conversion from float32 to uint8. Range [0, 1]. Convert image to uint8 prior to saving to suppress this warning.\n"
     ]
    },
    {
     "name": "stdout",
     "output_type": "stream",
     "text": [
      "120 epoch : 0.0810 second\n"
     ]
    },
    {
     "name": "stderr",
     "output_type": "stream",
     "text": [
      "Lossy conversion from float32 to uint8. Range [0, 1]. Convert image to uint8 prior to saving to suppress this warning.\n"
     ]
    },
    {
     "name": "stdout",
     "output_type": "stream",
     "text": [
      "121 epoch : 0.0805 second\n"
     ]
    },
    {
     "name": "stderr",
     "output_type": "stream",
     "text": [
      "Lossy conversion from float32 to uint8. Range [0, 1]. Convert image to uint8 prior to saving to suppress this warning.\n"
     ]
    },
    {
     "name": "stdout",
     "output_type": "stream",
     "text": [
      "122 epoch : 0.0863 second\n"
     ]
    },
    {
     "name": "stderr",
     "output_type": "stream",
     "text": [
      "Lossy conversion from float32 to uint8. Range [0, 1]. Convert image to uint8 prior to saving to suppress this warning.\n"
     ]
    },
    {
     "name": "stdout",
     "output_type": "stream",
     "text": [
      "123 epoch : 0.0817 second\n"
     ]
    },
    {
     "name": "stderr",
     "output_type": "stream",
     "text": [
      "Lossy conversion from float32 to uint8. Range [0, 1]. Convert image to uint8 prior to saving to suppress this warning.\n"
     ]
    },
    {
     "name": "stdout",
     "output_type": "stream",
     "text": [
      "124 epoch : 0.0811 second\n"
     ]
    },
    {
     "name": "stderr",
     "output_type": "stream",
     "text": [
      "Lossy conversion from float32 to uint8. Range [0, 1]. Convert image to uint8 prior to saving to suppress this warning.\n"
     ]
    },
    {
     "name": "stdout",
     "output_type": "stream",
     "text": [
      "125 epoch : 0.0814 second\n"
     ]
    },
    {
     "name": "stderr",
     "output_type": "stream",
     "text": [
      "Lossy conversion from float32 to uint8. Range [0, 1]. Convert image to uint8 prior to saving to suppress this warning.\n"
     ]
    },
    {
     "name": "stdout",
     "output_type": "stream",
     "text": [
      "126 epoch : 0.0916 second\n"
     ]
    },
    {
     "name": "stderr",
     "output_type": "stream",
     "text": [
      "Lossy conversion from float32 to uint8. Range [0, 1]. Convert image to uint8 prior to saving to suppress this warning.\n"
     ]
    },
    {
     "name": "stdout",
     "output_type": "stream",
     "text": [
      "127 epoch : 0.0835 second\n"
     ]
    },
    {
     "name": "stderr",
     "output_type": "stream",
     "text": [
      "Lossy conversion from float32 to uint8. Range [0, 1]. Convert image to uint8 prior to saving to suppress this warning.\n"
     ]
    },
    {
     "name": "stdout",
     "output_type": "stream",
     "text": [
      "128 epoch : 0.0812 second\n"
     ]
    },
    {
     "name": "stderr",
     "output_type": "stream",
     "text": [
      "Lossy conversion from float32 to uint8. Range [0, 1]. Convert image to uint8 prior to saving to suppress this warning.\n"
     ]
    },
    {
     "name": "stdout",
     "output_type": "stream",
     "text": [
      "129 epoch : 0.0817 second\n"
     ]
    },
    {
     "name": "stderr",
     "output_type": "stream",
     "text": [
      "Lossy conversion from float32 to uint8. Range [0, 1]. Convert image to uint8 prior to saving to suppress this warning.\n",
      "Lossy conversion from float32 to uint8. Range [0, 1]. Convert image to uint8 prior to saving to suppress this warning.\n"
     ]
    },
    {
     "name": "stdout",
     "output_type": "stream",
     "text": [
      "130 epoch : 0.0823 second\n",
      "131 epoch : 0.0809 second\n"
     ]
    },
    {
     "name": "stderr",
     "output_type": "stream",
     "text": [
      "Lossy conversion from float32 to uint8. Range [0, 1]. Convert image to uint8 prior to saving to suppress this warning.\n"
     ]
    },
    {
     "name": "stdout",
     "output_type": "stream",
     "text": [
      "132 epoch : 0.0748 second\n"
     ]
    },
    {
     "name": "stderr",
     "output_type": "stream",
     "text": [
      "Lossy conversion from float32 to uint8. Range [0, 1]. Convert image to uint8 prior to saving to suppress this warning.\n"
     ]
    },
    {
     "name": "stdout",
     "output_type": "stream",
     "text": [
      "133 epoch : 0.0743 second\n"
     ]
    },
    {
     "name": "stderr",
     "output_type": "stream",
     "text": [
      "Lossy conversion from float32 to uint8. Range [0, 1]. Convert image to uint8 prior to saving to suppress this warning.\n"
     ]
    },
    {
     "name": "stdout",
     "output_type": "stream",
     "text": [
      "134 epoch : 0.0735 second\n"
     ]
    },
    {
     "name": "stderr",
     "output_type": "stream",
     "text": [
      "Lossy conversion from float32 to uint8. Range [0, 1]. Convert image to uint8 prior to saving to suppress this warning.\n"
     ]
    },
    {
     "name": "stdout",
     "output_type": "stream",
     "text": [
      "135 epoch : 0.0905 second\n"
     ]
    },
    {
     "name": "stderr",
     "output_type": "stream",
     "text": [
      "Lossy conversion from float32 to uint8. Range [0, 1]. Convert image to uint8 prior to saving to suppress this warning.\n"
     ]
    },
    {
     "name": "stdout",
     "output_type": "stream",
     "text": [
      "136 epoch : 0.0826 second\n"
     ]
    },
    {
     "name": "stderr",
     "output_type": "stream",
     "text": [
      "Lossy conversion from float32 to uint8. Range [0, 1]. Convert image to uint8 prior to saving to suppress this warning.\n"
     ]
    },
    {
     "name": "stdout",
     "output_type": "stream",
     "text": [
      "137 epoch : 0.0811 second\n"
     ]
    },
    {
     "name": "stderr",
     "output_type": "stream",
     "text": [
      "Lossy conversion from float32 to uint8. Range [0, 1]. Convert image to uint8 prior to saving to suppress this warning.\n"
     ]
    },
    {
     "name": "stdout",
     "output_type": "stream",
     "text": [
      "138 epoch : 0.0813 second\n"
     ]
    },
    {
     "name": "stderr",
     "output_type": "stream",
     "text": [
      "Lossy conversion from float32 to uint8. Range [0, 1]. Convert image to uint8 prior to saving to suppress this warning.\n"
     ]
    },
    {
     "name": "stdout",
     "output_type": "stream",
     "text": [
      "139 epoch : 0.0811 second\n"
     ]
    },
    {
     "name": "stderr",
     "output_type": "stream",
     "text": [
      "Lossy conversion from float32 to uint8. Range [0, 1]. Convert image to uint8 prior to saving to suppress this warning.\n"
     ]
    },
    {
     "name": "stdout",
     "output_type": "stream",
     "text": [
      "140 epoch : 0.0815 second\n",
      "2021-12-16 06:11:25: Datset: Compression Noisy Image \n",
      "  PSNR = 16.90dB, SSIM = 0.3953\n"
     ]
    }
   ],
   "source": [
    "args = parse_args()\n",
    "device = torch.device(\"cuda\")\n",
    "\n",
    "if not os.path.exists(os.path.join(args.model_dir, args.model_name)):\n",
    "    model = torch.load(os.path.join(args.model_dir, 'model.pth'))\n",
    "    log('load trained model on Train400 dataset by kai')\n",
    "else:\n",
    "    model = torch.load(os.path.join(args.model_dir, args.model_name))\n",
    "    log('load trained model')\n",
    "\n",
    "model.eval()\n",
    "\n",
    "if torch.cuda.is_available():\n",
    "    model = model.cuda()\n",
    "\n",
    "if not os.path.exists(args.result_dir):\n",
    "    os.mkdir(args.result_dir)\n",
    "\n",
    "test_psnrs = []\n",
    "test_ssims = []\n",
    "\n",
    "N_img_list = glob.glob(args.Noise_set_dir + '/*.png')\n",
    "O_img_list = glob.glob(args.Original_set_dir + '/*.jpg')\n",
    "\n",
    "for i in range(0, len(N_img_list)):\n",
    "    if len(N_img_list) == len(O_img_list):\n",
    "        \n",
    "        y = np.array(cv2.imread(N_img_list[i], 0), dtype=np.float32)/255.0\n",
    "        y = y.astype(np.float32)\n",
    "        y_noise = torch.from_numpy(y).view(1, -1, y.shape[0], y.shape[1])\n",
    "        \n",
    "        x = np.array(cv2.imread(O_img_list[i], 0), dtype=np.float32)/255.0\n",
    "    \n",
    "        torch.cuda.synchronize()\n",
    "        start_time = time.time()\n",
    "        \n",
    "        y_noise = y_noise.to(device)\n",
    "        denoising = model(y_noise)\n",
    "        denoising = denoising.view(y.shape[0], y.shape[1])\n",
    "        denoising = denoising.cpu()\n",
    "        denoising = denoising.detach().numpy().astype(np.float32)\n",
    "    \n",
    "        torch.cuda.synchronize()\n",
    "        elapsed_time = time.time() - start_time\n",
    "        print('%d epoch : %2.4f second' % (i + 1, elapsed_time))\n",
    "    \n",
    "        psnr_denoising = compare_psnr(x, denoising, data_range = 2)\n",
    "        ssim_denoising = compare_ssim(x, denoising)\n",
    "    \n",
    "        if args.save_result:\n",
    "            save_result(denoising, path = os.path.join('results', 'Compression_Denoising_Image_Result', str(i) + 'DnCNN_img.png'), ext = '.png')\n",
    "    \n",
    "        test_psnrs.append(psnr_denoising)\n",
    "        test_ssims.append(ssim_denoising)\n",
    "\n",
    "test_psnr_avg = np.mean(test_psnrs)\n",
    "test_ssim_avg = np.mean(test_ssims)\n",
    "\n",
    "test_psnrs.append(test_psnr_avg)\n",
    "test_ssims.append(test_ssim_avg)\n",
    "\n",
    "if args.save_result:\n",
    "    save_result(test_psnrs, path=os.path.join('results', 'Compression_Denoising_Text_Result', 'psnr_results.txt'), ext = '.txt')\n",
    "    save_result(test_ssims, path=os.path.join('results', 'Compression_Denoising_Text_Result', 'ssim_results.txt'), ext = '.txt')\n",
    "\n",
    "log('Datset: {0:10s} \\n  PSNR = {1:2.2f}dB, SSIM = {2:1.4f}'.format('Compression Noisy Image', test_psnr_avg, test_ssim_avg))"
   ]
  }
 ],
 "metadata": {
  "kernelspec": {
   "display_name": "Python 3",
   "language": "python",
   "name": "python3"
  },
  "language_info": {
   "codemirror_mode": {
    "name": "ipython",
    "version": 3
   },
   "file_extension": ".py",
   "mimetype": "text/x-python",
   "name": "python",
   "nbconvert_exporter": "python",
   "pygments_lexer": "ipython3",
   "version": "3.7.10"
  }
 },
 "nbformat": 4,
 "nbformat_minor": 5
}
